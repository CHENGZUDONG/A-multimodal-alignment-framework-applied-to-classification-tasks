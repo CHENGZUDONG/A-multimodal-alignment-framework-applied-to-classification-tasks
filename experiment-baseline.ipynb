{
 "cells": [
  {
   "cell_type": "code",
   "execution_count": 1,
   "id": "c4e27385-d6fc-4175-9cc8-b1633d6f4b34",
   "metadata": {
    "scrolled": true
   },
   "outputs": [],
   "source": [
    "import os\n",
    "import json\n",
    "from PIL import Image\n",
    "import torch\n",
    "from torchvision import transforms\n",
    "import torch\n",
    "from transformers import BertModel, BertTokenizer\n",
    "import clip\n",
    "from PIL import Image\n",
    "image_folder = 'C:\\\\Users\\\\wjw\\\\Desktop\\\\111\\\\hateful_memes\\\\img\\\\'  # 图像文件夹路径\n",
    "json_file = 'test_seen.jsonl'  # JSON文件路径列表\n",
    "preprocess = transforms.Compose([\n",
    "    transforms.Resize(256),\n",
    "    transforms.CenterCrop(224),\n",
    "    transforms.ToTensor(),\n",
    "    transforms.Normalize(mean=[0.485, 0.456, 0.406], std=[0.229, 0.224, 0.225])\n",
    "])\n",
    "device = torch.device(\"cuda\" if torch.cuda.is_available() else \"cpu\")\n",
    "# 创建四维空张量\n",
    "images =[]\n",
    "texts = []\n",
    "labels = []\n",
    "image_paths = []\n",
    "Id=[]\n",
    "# 遍历每个JSON文件\n",
    "with open(json_file, 'r') as f:\n",
    "        data = [json.loads(line) for line in f]\n",
    "        for entry in data:\n",
    "            img_name = entry['img']  # 获取图像路径\n",
    "            img_path = img_name.replace('img/','img//')\n",
    "            iid=img_name.replace('png','').replace('img/','')\n",
    "            if os.path.isfile(img_path):\n",
    "                try:\n",
    "                    img = Image.open(img_path).convert('RGB')  # 确保图像为RGB格式\n",
    "                    img=preprocess(img).unsqueeze(0).to(device)\n",
    "                    images.append(img)\n",
    "                    texts.append(entry['text'])                # 存储对应文本\n",
    "                    labels.append(entry['label'])               # 存储标签\n",
    "                    image_paths.append(img_path)\n",
    "                    Id.append(iid)\n",
    "                except Exception as e:\n",
    "                    print(f'Error loading image {img_path}: {e}')\n",
    "            final_tensor = torch.cat(images, dim=0)"
   ]
  },
  {
   "cell_type": "code",
   "execution_count": 2,
   "id": "84313763-63a8-4283-a2a3-ce6ef5c42c6e",
   "metadata": {},
   "outputs": [],
   "source": [
    "model_clip, preprocess_clip = clip.load(\"ViT-B/32\", device=device)\n",
    "clip_tokenizer = clip.tokenize\n",
    "model_clip.eval()\n",
    "import re\n",
    "max_length=60\n",
    "truncated_texts = []\n",
    "for text in texts:\n",
    "    sentences = re.split(r'[.!?]', text)  # 以句号、感叹号、问号作为句子分隔符拆分文本\n",
    "    truncated_text = \"\"\n",
    "    current_length = 0\n",
    "    for sentence in texts:\n",
    "        sentence = sentence.strip()  # 去除句子两端多余空白字符\n",
    "        if current_length + len(sentence) <= max_length:\n",
    "            truncated_text += sentence + \" \"\n",
    "            current_length += len(sentence) + 1  # 算上添加的空格长度\n",
    "        else:\n",
    "            break\n",
    "    truncated_text = truncated_text.rstrip()  # 去除末尾多余空格\n",
    "    truncated_texts.append(truncated_text)\n",
    "clip_text = clip_tokenizer(truncated_texts).to(device)\n",
    "encoded_text_by_clip = model_clip.encode_text(clip_text)\n",
    "with torch.no_grad():\n",
    "    image_features = model_clip.encode_image(final_tensor)"
   ]
  },
  {
   "cell_type": "code",
   "execution_count": 3,
   "id": "64e845b6-a790-42f6-b449-af97a98f2c70",
   "metadata": {},
   "outputs": [
    {
     "data": {
      "text/plain": [
       "torch.Size([815, 512])"
      ]
     },
     "execution_count": 3,
     "metadata": {},
     "output_type": "execute_result"
    }
   ],
   "source": [
    "image_features.shape"
   ]
  },
  {
   "cell_type": "code",
   "execution_count": 3,
   "id": "69dcb51f-caec-44b2-896a-4ce89008650b",
   "metadata": {},
   "outputs": [],
   "source": [
    "features = torch.cat((image_features, encoded_text_by_clip), dim=1)"
   ]
  },
  {
   "cell_type": "code",
   "execution_count": 7,
   "id": "3fcfcd33-5e47-41b6-94b2-d4a56c726bf5",
   "metadata": {},
   "outputs": [
    {
     "data": {
      "text/plain": [
       "torch.Size([815, 1024])"
      ]
     },
     "execution_count": 7,
     "metadata": {},
     "output_type": "execute_result"
    }
   ],
   "source": [
    "features.shape"
   ]
  },
  {
   "cell_type": "code",
   "execution_count": 4,
   "id": "5a855c7c-782d-48ee-a985-ed40655b9fbf",
   "metadata": {},
   "outputs": [
    {
     "name": "stdout",
     "output_type": "stream",
     "text": [
      "BinaryClassifier(\n",
      "  (fc1): Linear(in_features=1024, out_features=128, bias=True)\n",
      "  (fc2): Linear(in_features=128, out_features=64, bias=True)\n",
      "  (fc3): Linear(in_features=64, out_features=32, bias=True)\n",
      "  (fc4): Linear(in_features=32, out_features=16, bias=True)\n",
      "  (fc5): Linear(in_features=16, out_features=1, bias=True)\n",
      "  (relu): ReLU()\n",
      "  (sigmoid): Sigmoid()\n",
      ")\n"
     ]
    }
   ],
   "source": [
    "import torch\n",
    "import torch.nn as nn\n",
    "\n",
    "class BinaryClassifier(nn.Module):\n",
    "    def __init__(self, input_size):\n",
    "        super(BinaryClassifier, self).__init__()\n",
    "        self.fc1 = nn.Linear(input_size, 128)  # 第一个全连接层\n",
    "        self.fc2 = nn.Linear(128, 64)           # 第二个全连接层\n",
    "        self.fc3 = nn.Linear(64, 32)\n",
    "        self.fc4 = nn.Linear(32, 16)\n",
    "        self.fc5 = nn.Linear(16, 1)# 输出层\n",
    "        self.relu = nn.ReLU()                   # ReLU 激活函数\n",
    "        self.sigmoid = nn.Sigmoid()             # Sigmoid 激活函数用于二分类\n",
    "\n",
    "    def forward(self, x):\n",
    "        x = self.relu(self.fc1(x))              # 第一层\n",
    "        x = self.relu(self.fc2(x))\n",
    "        x = self.relu(self.fc3(x))\n",
    "        x = self.relu(self.fc4(x))\n",
    "        x = self.sigmoid(self.fc5(x))           # 输出层\n",
    "        return x                                 # 返回概率值\n",
    "\n",
    "# 使用示例\n",
    "input_size = 1024  # 输入特征的维度\n",
    "model = BinaryClassifier(input_size)\n",
    "\n",
    "# 打印模型结构\n",
    "print(model)"
   ]
  },
  {
   "cell_type": "code",
   "execution_count": 7,
   "id": "3e54024a-438a-4876-9ba9-dfdc4d8afd50",
   "metadata": {},
   "outputs": [],
   "source": [
    "from sklearn.model_selection import train_test_split\n",
    "X_train_val, X_test, y_train_val, y_test = train_test_split(features, labels, test_size=0.25, random_state=42)\n",
    "X_train, X_val, y_train, y_val = train_test_split(X_train_val, y_train_val, test_size=0.2, random_state=42)"
   ]
  },
  {
   "cell_type": "code",
   "execution_count": 8,
   "id": "2d2488c8-f422-4403-b51d-d2321ad822de",
   "metadata": {},
   "outputs": [
    {
     "name": "stderr",
     "output_type": "stream",
     "text": [
      "C:\\Users\\wjw\\AppData\\Local\\Temp\\ipykernel_28784\\4081403616.py:1: UserWarning: To copy construct from a tensor, it is recommended to use sourceTensor.clone().detach() or sourceTensor.clone().detach().requires_grad_(True), rather than torch.tensor(sourceTensor).\n",
      "  X_train = torch.tensor(X_train, dtype=torch.float32)\n",
      "C:\\Users\\wjw\\AppData\\Local\\Temp\\ipykernel_28784\\4081403616.py:2: UserWarning: To copy construct from a tensor, it is recommended to use sourceTensor.clone().detach() or sourceTensor.clone().detach().requires_grad_(True), rather than torch.tensor(sourceTensor).\n",
      "  X_test = torch.tensor(X_test, dtype=torch.float32)\n",
      "C:\\Users\\wjw\\AppData\\Local\\Temp\\ipykernel_28784\\4081403616.py:5: UserWarning: To copy construct from a tensor, it is recommended to use sourceTensor.clone().detach() or sourceTensor.clone().detach().requires_grad_(True), rather than torch.tensor(sourceTensor).\n",
      "  X_val = torch.tensor(X_val, dtype=torch.float32)\n"
     ]
    }
   ],
   "source": [
    "X_train = torch.tensor(X_train, dtype=torch.float32)\n",
    "X_test = torch.tensor(X_test, dtype=torch.float32)\n",
    "y_train = torch.tensor(y_train, dtype=torch.float32)\n",
    "y_test = torch.tensor(y_test, dtype=torch.float32)\n",
    "X_val = torch.tensor(X_val, dtype=torch.float32)\n",
    "y_val = torch.tensor(y_val, dtype=torch.float32)"
   ]
  },
  {
   "cell_type": "code",
   "execution_count": 11,
   "id": "815dacf7-ab6c-482b-b921-79931b6f01c9",
   "metadata": {},
   "outputs": [
    {
     "name": "stdout",
     "output_type": "stream",
     "text": [
      "Epoch [1/30], Loss: 0.6948, Val Accuracy: 0.5203\n",
      "Epoch [2/30], Loss: 0.6933, Val Accuracy: 0.5203\n",
      "Epoch [3/30], Loss: 0.6928, Val Accuracy: 0.5691\n",
      "Epoch [4/30], Loss: 0.6916, Val Accuracy: 0.5447\n",
      "Epoch [5/30], Loss: 0.6905, Val Accuracy: 0.5203\n",
      "Epoch [6/30], Loss: 0.6894, Val Accuracy: 0.5122\n",
      "Epoch [7/30], Loss: 0.6882, Val Accuracy: 0.5041\n",
      "Epoch [8/30], Loss: 0.6865, Val Accuracy: 0.5122\n",
      "Epoch [9/30], Loss: 0.6847, Val Accuracy: 0.4959\n",
      "Epoch [10/30], Loss: 0.6825, Val Accuracy: 0.4959\n",
      "Epoch [11/30], Loss: 0.6798, Val Accuracy: 0.4878\n",
      "Epoch [12/30], Loss: 0.6766, Val Accuracy: 0.4959\n",
      "Epoch [13/30], Loss: 0.6730, Val Accuracy: 0.4715\n",
      "Epoch [14/30], Loss: 0.6690, Val Accuracy: 0.4878\n",
      "Epoch [15/30], Loss: 0.6644, Val Accuracy: 0.5041\n",
      "Epoch [16/30], Loss: 0.6591, Val Accuracy: 0.4959\n",
      "Epoch [17/30], Loss: 0.6527, Val Accuracy: 0.4878\n",
      "Epoch [18/30], Loss: 0.6454, Val Accuracy: 0.5041\n",
      "Epoch [19/30], Loss: 0.6372, Val Accuracy: 0.4959\n",
      "Epoch [20/30], Loss: 0.6280, Val Accuracy: 0.4715\n",
      "Epoch [21/30], Loss: 0.6181, Val Accuracy: 0.4715\n",
      "Epoch [22/30], Loss: 0.6072, Val Accuracy: 0.4634\n",
      "Epoch [23/30], Loss: 0.5952, Val Accuracy: 0.4634\n",
      "Epoch [24/30], Loss: 0.5822, Val Accuracy: 0.4634\n",
      "Epoch [25/30], Loss: 0.5683, Val Accuracy: 0.4634\n",
      "Epoch [26/30], Loss: 0.5534, Val Accuracy: 0.4634\n",
      "Epoch [27/30], Loss: 0.5378, Val Accuracy: 0.4634\n",
      "Epoch [28/30], Loss: 0.5219, Val Accuracy: 0.4797\n",
      "Epoch [29/30], Loss: 0.5068, Val Accuracy: 0.4878\n",
      "Epoch [30/30], Loss: 0.4922, Val Accuracy: 0.4715\n"
     ]
    }
   ],
   "source": [
    "import torch\n",
    "import torch.nn as nn\n",
    "import torch.optim as optim\n",
    "import numpy as np\n",
    "import random\n",
    "criterion = nn.BCELoss()\n",
    "optimizer = optim.Adam(model.parameters(), lr=0.001)\n",
    "num_epochs = 30\n",
    "acc=[]\n",
    "def set_seed(seed):\n",
    "    torch.manual_seed(seed)\n",
    "    torch.cuda.manual_seed_all(seed)\n",
    "    np.random.seed(seed)\n",
    "    random.seed(seed)\n",
    "    torch.backends.cudnn.deterministic = True\n",
    "    torch.backends.cudnn.benchmark = False\n",
    "set_seed(42)\n",
    "for epoch in range(num_epochs):\n",
    "    model.train()  # 设置为训练模式\n",
    "    optimizer.zero_grad()\n",
    "    \n",
    "    # 前向传播\n",
    "    outputs = model(X_train)\n",
    "    loss = criterion(outputs, y_train.view(-1, 1).float())\n",
    "    \n",
    "    # 反向传播和优化\n",
    "    loss.backward()\n",
    "    optimizer.step()\n",
    "    model.eval()  # 设置为评估模式\n",
    "    with torch.no_grad():  # 不计算梯度\n",
    "        val_outputs = model(X_val)  # 在验证集上进行前向传播\n",
    "        val_predicted = (val_outputs >= 0.5).float()  # 将输出转换为0或1的预测\n",
    "        correct_predictions = (val_predicted.view(-1) == y_val).sum().item()  # 计算正确预测的数量\n",
    "        val_accuracy = correct_predictions / y_val.size(0)  # 计算验证集的准确率\n",
    "        acc.append(val_accuracy)\n",
    "    #if (epoch + 1) % 10 == 0:\n",
    "    print(f'Epoch [{epoch + 1}/{num_epochs}], Loss: {loss.item():.4f}, Val Accuracy: {val_accuracy:.4f}')"
   ]
  },
  {
   "cell_type": "code",
   "execution_count": 23,
   "id": "80e0a4e0-7505-4495-8ca0-3d1fca7051cf",
   "metadata": {},
   "outputs": [],
   "source": [
    "import pandas as pd\n",
    "loss_df = pd.DataFrame({\n",
    "    \"clip_acc\": acc\n",
    "})\n",
    "loss_df.to_csv(\"acc_clip.csv\", index=False)"
   ]
  },
  {
   "cell_type": "code",
   "execution_count": 12,
   "id": "0ead7208-72ca-4c65-a7fd-291503bde9de",
   "metadata": {},
   "outputs": [
    {
     "name": "stdout",
     "output_type": "stream",
     "text": [
      "Validation Accuracy: 47.15%\n",
      "Validation F1 Score: 0.4882\n"
     ]
    }
   ],
   "source": [
    "from sklearn.metrics import f1_score\n",
    "model.eval()  # 设置为评估模式\n",
    "with torch.no_grad():\n",
    "    val_outputs = model(X_val)\n",
    "    val_predictions = (val_outputs >= 0.5).float()  # 预测类别\n",
    "    val_accuracy = (val_predictions.view(-1) == y_val).float().mean()  # 计算准确率\n",
    "    print(f'Validation Accuracy: {val_accuracy.item() * 100:.2f}%')\n",
    "    val_predictions_np = val_predictions.cpu().numpy().flatten()\n",
    "    y_val1_np = y_val1.cpu().numpy().flatten()\n",
    "    # 计算 F1 分数\n",
    "    val_f1 = f1_score(y_val1_np, val_predictions_np)\n",
    "    print(f'Validation F1 Score: {val_f1:.4f}')"
   ]
  },
  {
   "cell_type": "code",
   "execution_count": 13,
   "id": "9c6f55ca-58d0-4e3b-842e-02d40643e8e6",
   "metadata": {},
   "outputs": [
    {
     "name": "stdout",
     "output_type": "stream",
     "text": [
      "Validation Accuracy: 54.41%\n",
      "Validation F1 Score: 0.5507\n"
     ]
    }
   ],
   "source": [
    "from sklearn.metrics import f1_score\n",
    "model.eval()  # 设置为评估模式\n",
    "with torch.no_grad():\n",
    "    val_outputs = model(X_test)\n",
    "    val_predictions = (val_outputs >= 0.5).float()  # 预测类别\n",
    "    val_accuracy = (val_predictions.view(-1) == y_test).float().mean()  # 计算准确率\n",
    "    print(f'Validation Accuracy: {val_accuracy.item() * 100:.2f}%')\n",
    "    val_predictions_np = val_predictions.cpu().numpy().flatten()\n",
    "    y_test1_np = y_test1.cpu().numpy().flatten()\n",
    "    # 计算 F1 分数\n",
    "    val_f1 = f1_score(y_test1_np, val_predictions_np)\n",
    "    print(f'Validation F1 Score: {val_f1:.4f}')"
   ]
  },
  {
   "cell_type": "code",
   "execution_count": 25,
   "id": "902b3ab0-7ccc-431a-963f-02de34af787a",
   "metadata": {
    "scrolled": true
   },
   "outputs": [
    {
     "name": "stdout",
     "output_type": "stream",
     "text": [
      "元素 1 出现的次数为: 393\n",
      "元素 0 出现的次数为: 422\n"
     ]
    }
   ],
   "source": [
    "from collections import Counter\n",
    "element_count = Counter(labels)\n",
    "for element, count in element_count.items():\n",
    "    print(f\"元素 {element} 出现的次数为: {count}\")"
   ]
  },
  {
   "cell_type": "code",
   "execution_count": 14,
   "id": "7db365cf-6c38-4ec4-bcea-713918ac403b",
   "metadata": {},
   "outputs": [
    {
     "name": "stdout",
     "output_type": "stream",
     "text": [
      "Original features shape: torch.Size([204, 1024])\n",
      "Noisy features shape: torch.Size([204])\n"
     ]
    }
   ],
   "source": [
    "import torch\n",
    "\n",
    "def add_gaussian_noise_pytorch(features, mean=0, std=0.1):\n",
    "    \"\"\"\n",
    "    给 PyTorch 张量形式的特征添加高斯噪声\n",
    "    :param features: 处理好的特征张量\n",
    "    :param mean: 高斯噪声的均值\n",
    "    :param std: 高斯噪声的标准差\n",
    "    :return: 添加噪声后的特征张量\n",
    "    \"\"\"\n",
    "    # 生成与特征张量形状相同的高斯噪声\n",
    "    noise = torch.randn(features.size()) * std + mean\n",
    "    # 将噪声添加到特征上\n",
    "    noisy_features = features + noise\n",
    "    return noisy_features\n",
    "# 添加高斯噪声\n",
    "X_test_noise = add_gaussian_noise_pytorch(X_test, mean=0, std=0.1)\n",
    "y_test_noise=y_test+y_test\n",
    "print(\"Original features shape:\", X_test_noise.shape)\n",
    "print(\"Noisy features shape:\", y_test_noise.shape)"
   ]
  },
  {
   "cell_type": "code",
   "execution_count": 15,
   "id": "db3e1099-dc6d-4366-92f1-3e317f76ddfe",
   "metadata": {},
   "outputs": [
    {
     "name": "stdout",
     "output_type": "stream",
     "text": [
      "Validation Accuracy: 28.92%\n",
      "Validation F1 Score: 0.5784\n"
     ]
    }
   ],
   "source": [
    "from sklearn.metrics import f1_score\n",
    "model.eval()  # 设置为评估模式\n",
    "with torch.no_grad():\n",
    "    val_outputs = model(X_test_noise)\n",
    "    val_predictions = (val_outputs >= 0.5).float()  # 预测类别\n",
    "    val_accuracy = (val_predictions.view(-1) == y_test_noise).float().mean()  # 计算准确率\n",
    "    print(f'Validation Accuracy: {val_accuracy.item() * 100:.2f}%')\n",
    "    val_predictions_np = val_predictions.cpu().numpy().flatten()\n",
    "    y_test1_np = y_test1.cpu().numpy().flatten()\n",
    "    # 计算 F1 分数\n",
    "    val_f1 = f1_score(y_test1_np, val_predictions_np)\n",
    "    print(f'Validation F1 Score: {val_f1:.4f}')"
   ]
  },
  {
   "cell_type": "code",
   "execution_count": 16,
   "id": "8b0d1da9-16df-4336-b8f6-95297246a6c1",
   "metadata": {},
   "outputs": [],
   "source": [
    "X_val_noise = add_gaussian_noise_pytorch(X_val, mean=0, std=0.1)\n",
    "y_val_noise=y_val+y_val"
   ]
  },
  {
   "cell_type": "code",
   "execution_count": 17,
   "id": "344662e4-14cf-4bc1-938a-a5db580a582d",
   "metadata": {},
   "outputs": [
    {
     "name": "stdout",
     "output_type": "stream",
     "text": [
      "Validation Accuracy: 19.51%\n",
      "Validation F1 Score: 0.4885\n"
     ]
    }
   ],
   "source": [
    "from sklearn.metrics import f1_score\n",
    "model.eval()  # 设置为评估模式\n",
    "with torch.no_grad():\n",
    "    val_outputs = model(X_val_noise)\n",
    "    val_predictions = (val_outputs >= 0.5).float()  # 预测类别\n",
    "    val_accuracy = (val_predictions.view(-1) == y_val_noise).float().mean()  # 计算准确率\n",
    "    print(f'Validation Accuracy: {val_accuracy.item() * 100:.2f}%')\n",
    "    val_predictions_np = val_predictions.cpu().numpy().flatten()\n",
    "    y_test1_np = y_test1.cpu().numpy().flatten()\n",
    "    # 计算 F1 分数\n",
    "    val_f1 = f1_score(y_val1_np, val_predictions_np)\n",
    "    print(f'Validation F1 Score: {val_f1:.4f}')"
   ]
  },
  {
   "cell_type": "code",
   "execution_count": 18,
   "id": "957a4a7a-fbe0-48b4-a737-8dde0c7bf2d3",
   "metadata": {},
   "outputs": [
    {
     "name": "stdout",
     "output_type": "stream",
     "text": [
      "Original features shape: torch.Size([204, 1024])\n",
      "Noisy features shape: torch.Size([204, 1024])\n"
     ]
    }
   ],
   "source": [
    "import torch\n",
    "import numpy as np\n",
    "\n",
    "def add_salt_and_pepper_noise(features, salt_prob=0.01, pepper_prob=0.01):\n",
    "    \"\"\"\n",
    "    给 PyTorch 张量形式的特征添加椒盐噪声\n",
    "    :param features: 处理好的特征张量\n",
    "    :param salt_prob: 添加盐噪声的概率\n",
    "    :param pepper_prob: 添加胡椒噪声的概率\n",
    "    :return: 添加噪声后的特征张量\n",
    "    \"\"\"\n",
    "    # 创建一个与特征相同形状的噪声张量\n",
    "    noisy_features = features.clone()\n",
    "    \n",
    "    # 生成随机数\n",
    "    random_values = torch.rand(features.size())\n",
    "    \n",
    "    # 添加盐噪声（随机选择一些像素点设置为最大值）\n",
    "    noisy_features[random_values < salt_prob] = 1.0  # 1.0 表示盐噪声\n",
    "    \n",
    "    # 添加胡椒噪声（随机选择一些像素点设置为最小值）\n",
    "    noisy_features[random_values > (1 - pepper_prob)] = 0.0  # 0.0 表示胡椒噪声\n",
    "    \n",
    "    return noisy_features\n",
    "\n",
    "# 添加椒盐噪声\n",
    "X_test_noise = add_salt_and_pepper_noise(X_test, salt_prob=0.01, pepper_prob=0.01)\n",
    "y_test_noise = y_test + y_test  # 根据需要进行修改\n",
    "print(\"Original features shape:\", X_test.shape)\n",
    "print(\"Noisy features shape:\", X_test_noise.shape)"
   ]
  },
  {
   "cell_type": "code",
   "execution_count": 19,
   "id": "297a0cd0-15be-4588-b347-5d5af2c67d22",
   "metadata": {},
   "outputs": [
    {
     "name": "stdout",
     "output_type": "stream",
     "text": [
      "Validation Accuracy: 25.98%\n",
      "Validation F1 Score: 0.5755\n"
     ]
    }
   ],
   "source": [
    "from sklearn.metrics import f1_score\n",
    "model.eval()  # 设置为评估模式\n",
    "with torch.no_grad():\n",
    "    val_outputs = model(X_test_noise)\n",
    "    val_predictions = (val_outputs >= 0.5).float()  # 预测类别\n",
    "    val_accuracy = (val_predictions.view(-1) == y_test_noise).float().mean()  # 计算准确率\n",
    "    print(f'Validation Accuracy: {val_accuracy.item() * 100:.2f}%')\n",
    "    val_predictions_np = val_predictions.cpu().numpy().flatten()\n",
    "    y_test1_np = y_test1.cpu().numpy().flatten()\n",
    "    # 计算 F1 分数\n",
    "    val_f1 = f1_score(y_test1_np, val_predictions_np)\n",
    "    print(f'Validation F1 Score: {val_f1:.4f}')"
   ]
  },
  {
   "cell_type": "code",
   "execution_count": 21,
   "id": "a880f8be-9b01-40ec-8efc-20f431719344",
   "metadata": {},
   "outputs": [],
   "source": [
    "X_val_noise = add_salt_and_pepper_noise(X_val, salt_prob=0.01, pepper_prob=0.01)\n",
    "y_val_noise=y_val+y_val"
   ]
  },
  {
   "cell_type": "code",
   "execution_count": 22,
   "id": "09b0880a-f7b7-4d0e-a916-e58a9eef6af7",
   "metadata": {},
   "outputs": [
    {
     "name": "stdout",
     "output_type": "stream",
     "text": [
      "Validation Accuracy: 21.95%\n",
      "Validation F1 Score: 0.4882\n"
     ]
    }
   ],
   "source": [
    "from sklearn.metrics import f1_score\n",
    "model.eval()  # 设置为评估模式\n",
    "with torch.no_grad():\n",
    "    val_outputs = model(X_val_noise)\n",
    "    val_predictions = (val_outputs >= 0.5).float()  # 预测类别\n",
    "    val_accuracy = (val_predictions.view(-1) == y_val_noise).float().mean()  # 计算准确率\n",
    "    print(f'Validation Accuracy: {val_accuracy.item() * 100:.2f}%')\n",
    "    val_predictions_np = val_predictions.cpu().numpy().flatten()\n",
    "    y_test1_np = y_test1.cpu().numpy().flatten()\n",
    "    # 计算 F1 分数\n",
    "    val_f1 = f1_score(y_val1_np, val_predictions_np)\n",
    "    print(f'Validation F1 Score: {val_f1:.4f}')"
   ]
  },
  {
   "cell_type": "code",
   "execution_count": null,
   "id": "7a6ca378-2d49-4109-92e7-a8792cc19101",
   "metadata": {},
   "outputs": [],
   "source": []
  }
 ],
 "metadata": {
  "kernelspec": {
   "display_name": "Python 3 (ipykernel)",
   "language": "python",
   "name": "python3"
  },
  "language_info": {
   "codemirror_mode": {
    "name": "ipython",
    "version": 3
   },
   "file_extension": ".py",
   "mimetype": "text/x-python",
   "name": "python",
   "nbconvert_exporter": "python",
   "pygments_lexer": "ipython3",
   "version": "3.12.0"
  }
 },
 "nbformat": 4,
 "nbformat_minor": 5
}
