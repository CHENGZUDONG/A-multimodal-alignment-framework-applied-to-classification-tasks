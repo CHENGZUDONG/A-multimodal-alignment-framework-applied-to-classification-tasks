{
 "cells": [
  {
   "cell_type": "code",
   "execution_count": 1,
   "id": "49f88906-d8a3-488d-956f-3aacf853383c",
   "metadata": {},
   "outputs": [],
   "source": [
    "import torch\n",
    "import torch.nn as nn\n",
    "\n",
    "class MultipleLinearTransform(nn.Module):\n",
    "    def __init__(self, input_dim, num_transforms):\n",
    "        super(MultipleLinearTransform, self).__init__()\n",
    "        # 定义线性层\n",
    "        self.linear = nn.Linear(input_dim, input_dim)\n",
    "        # 定义变换的次数\n",
    "        self.num_transforms = num_transforms\n",
    "\n",
    "    def forward(self, x):\n",
    "        # 初始化累加结果\n",
    "        total_result = torch.zeros_like(x)\n",
    "        current_input = x\n",
    "        for _ in range(self.num_transforms):\n",
    "            # 进行线性变换\n",
    "            transformed = self.linear(current_input)\n",
    "            # 累加结果\n",
    "            total_result += transformed\n",
    "            # 更新当前输入\n",
    "            current_input = transformed\n",
    "        return total_result\n",
    "\n",
    "\n",
    "class DualNetwork(nn.Module):\n",
    "    def __init__(self, features_dim1, features_dim2, inflect_dim, num_transforms):\n",
    "        super(DualNetwork, self).__init__()\n",
    "        # 定义两个单层网络\n",
    "        self.model1 = nn.Linear(features_dim1, inflect_dim)  # 第一个网络\n",
    "        self.model2 = nn.Linear(features_dim2, inflect_dim)  # 第二个网络\n",
    "        self.transform = MultipleLinearTransform(inflect_dim, num_transforms)\n",
    "\n",
    "    def forward(self, x1, x2):\n",
    "        # 前向传播\n",
    "        output1 = self.model1(x1)\n",
    "        output2 = self.model2(x2)\n",
    "\n",
    "        # 使用 MultipleLinearTransform 进行多次线性变换并求和\n",
    "        sum_result1 = self.transform(output1)\n",
    "        sum_result2 = self.transform(output2)\n",
    "\n",
    "        # 标准化输出\n",
    "        standardized_output1 = self.standardize(sum_result1)\n",
    "        standardized_output2 = self.standardize(sum_result2)\n",
    "\n",
    "        # 计算标准化后的点积\n",
    "        dot_product = torch.matmul(standardized_output1, standardized_output2.T)\n",
    "        return dot_product,sum_result1,sum_result2\n",
    "\n",
    "    def standardize(self, tensor):\n",
    "        # 标准化函数\n",
    "        mean = tensor.mean(dim=0, keepdim=True)\n",
    "        std = tensor.std(dim=0, keepdim=True)\n",
    "        std = torch.clamp(std, min=1e-8)  # 避免除零错误\n",
    "        return (tensor - mean) / std"
   ]
  },
  {
   "cell_type": "code",
   "execution_count": null,
   "id": "1638272d-6733-4fc9-91a0-56653f26786d",
   "metadata": {},
   "outputs": [],
   "source": []
  }
 ],
 "metadata": {
  "kernelspec": {
   "display_name": "Python 3 (ipykernel)",
   "language": "python",
   "name": "python3"
  },
  "language_info": {
   "codemirror_mode": {
    "name": "ipython",
    "version": 3
   },
   "file_extension": ".py",
   "mimetype": "text/x-python",
   "name": "python",
   "nbconvert_exporter": "python",
   "pygments_lexer": "ipython3",
   "version": "3.12.0"
  }
 },
 "nbformat": 4,
 "nbformat_minor": 5
}
