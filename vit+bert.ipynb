{
 "cells": [
  {
   "cell_type": "code",
   "execution_count": 1,
   "id": "40b4595e-aa6f-4d89-9c2f-562e937d71f8",
   "metadata": {},
   "outputs": [],
   "source": [
    "import os\n",
    "import json\n",
    "from PIL import Image\n",
    "import torch\n",
    "from torchvision import transforms\n",
    "import torch\n",
    "from transformers import BertModel, BertTokenizer\n",
    "import clip\n",
    "from PIL import Image\n",
    "image_folder = 'C:\\\\Users\\\\wjw\\\\Desktop\\\\111\\\\hateful_memes\\\\img\\\\'  # 图像文件夹路径\n",
    "json_file = 'test_seen.jsonl'  # JSON文件路径列表\n",
    "# 存储所有图像、文本和标签\n",
    "images = []\n",
    "texts = []\n",
    "labels = []\n",
    "image_paths = []\n",
    "Id=[]\n",
    "# 遍历每个JSON文件\n",
    "with open(json_file, 'r') as f:\n",
    "        data = [json.loads(line) for line in f]\n",
    "        for entry in data:\n",
    "            img_name = entry['img']  # 获取图像路径\n",
    "            img_path = img_name.replace('img/','img//')\n",
    "            iid=img_name.replace('png','').replace('img/','')\n",
    "            if os.path.isfile(img_path):\n",
    "                try:\n",
    "                    img = Image.open(img_path).convert('RGB')  # 确保图像为RGB格式\n",
    "                    images.append(img)\n",
    "                    texts.append(entry['text'])                # 存储对应文本\n",
    "                    labels.append(entry['label'])               # 存储标签\n",
    "                    image_paths.append(img_path)\n",
    "                    Id.append(iid)\n",
    "                except Exception as e:\n",
    "                    print(f'Error loading image {img_path}: {e}')"
   ]
  },
  {
   "cell_type": "code",
   "execution_count": 2,
   "id": "d7c0cf63-a480-4a64-aa76-ce27e579be33",
   "metadata": {},
   "outputs": [
    {
     "name": "stderr",
     "output_type": "stream",
     "text": [
      "C:\\Users\\wjw\\AppData\\Local\\Programs\\Python\\Python312\\Lib\\site-packages\\transformers\\models\\vit\\feature_extraction_vit.py:28: FutureWarning: The class ViTFeatureExtractor is deprecated and will be removed in version 5 of Transformers. Please use ViTImageProcessor instead.\n",
      "  warnings.warn(\n",
      "Some weights of ViTModel were not initialized from the model checkpoint at WinKawaks/vit-small-patch16-224 and are newly initialized: ['vit.pooler.dense.bias', 'vit.pooler.dense.weight']\n",
      "You should probably TRAIN this model on a down-stream task to be able to use it for predictions and inference.\n"
     ]
    },
    {
     "name": "stdout",
     "output_type": "stream",
     "text": [
      "torch.Size([815, 197, 384])\n"
     ]
    }
   ],
   "source": [
    "import torch\n",
    "from torchvision import transforms\n",
    "from transformers import AutoFeatureExtractor, AutoModel\n",
    "from transformers import ViTModel, ViTFeatureExtractor\n",
    "\n",
    "feature_extractor1 = ViTFeatureExtractor.from_pretrained(\"WinKawaks/vit-small-patch16-224\")\n",
    "model1 = ViTModel.from_pretrained(\"WinKawaks/vit-small-patch16-224\")\n",
    "device = torch.device(\"cuda\" if torch.cuda.is_available() else \"cpu\")\n",
    "inputs1 = feature_extractor1(images=images, return_tensors=\"pt\")\n",
    "model1.to(device)\n",
    "model1.eval()\n",
    "with torch.no_grad():\n",
    "   outputs1 = model1(**inputs1)\n",
    "   last_hidden_state1 = outputs1.last_hidden_state\n",
    "print(last_hidden_state1.shape)# 获取特征表示"
   ]
  },
  {
   "cell_type": "code",
   "execution_count": 3,
   "id": "8408a2c6-1c99-4555-b749-c487242a1d1a",
   "metadata": {},
   "outputs": [],
   "source": [
    "from transformers import BertModel, BertTokenizer\n",
    "\n",
    "# 加载预训练的BERT模型和分词器，这里以'bert-base-uncased'为例\n",
    "model_name = 'bert-base-uncased'\n",
    "tokenizer = BertTokenizer.from_pretrained(model_name)\n",
    "model = BertModel.from_pretrained(model_name)\n",
    "\n",
    "# 将模型设置为评估模式，这一步很关键，它会关闭一些在训练时才需要的操作，比如Dropout等\n",
    "model.eval()\n",
    "encoded_inputs = tokenizer(texts, padding=True, truncation=True, return_tensors='pt')"
   ]
  },
  {
   "cell_type": "code",
   "execution_count": 4,
   "id": "c16ff63c-768b-48de-b07d-96200454bed3",
   "metadata": {},
   "outputs": [],
   "source": [
    "with torch.no_grad():  # 禁用梯度计算，因为只是获取特征，不需要进行反向传播和参数更新\n",
    "    outputs1 = model(**encoded_inputs)\n",
    "    text_features = outputs1.last_hidden_state"
   ]
  },
  {
   "cell_type": "code",
   "execution_count": 5,
   "id": "0ec07448-38b3-476d-b07f-55ec4a3de34a",
   "metadata": {},
   "outputs": [],
   "source": [
    "x=last_hidden_state1.reshape(last_hidden_state1.size(0), -1)"
   ]
  },
  {
   "cell_type": "code",
   "execution_count": 6,
   "id": "c7cefdb3-1aa0-4e46-9d5d-2bd5c95d40b3",
   "metadata": {},
   "outputs": [],
   "source": [
    "x1=text_features.reshape(text_features.size(0), -1)"
   ]
  },
  {
   "cell_type": "code",
   "execution_count": 7,
   "id": "da32cdae-6de2-4b97-9b1b-74ffa573b3a8",
   "metadata": {},
   "outputs": [
    {
     "data": {
      "text/plain": [
       "torch.Size([815, 75648])"
      ]
     },
     "execution_count": 7,
     "metadata": {},
     "output_type": "execute_result"
    }
   ],
   "source": [
    "x.shape"
   ]
  },
  {
   "cell_type": "code",
   "execution_count": 8,
   "id": "19b7845f-453f-4e96-ae85-a65b50eebb9f",
   "metadata": {},
   "outputs": [
    {
     "data": {
      "text/plain": [
       "torch.Size([815, 56832])"
      ]
     },
     "execution_count": 8,
     "metadata": {},
     "output_type": "execute_result"
    }
   ],
   "source": [
    "x1.shape"
   ]
  },
  {
   "cell_type": "code",
   "execution_count": 9,
   "id": "da8d308f-87c4-4d1f-8d72-931fd0800fb3",
   "metadata": {},
   "outputs": [],
   "source": [
    "import torch\n",
    "import torch.nn as nn\n",
    "\n",
    "class MultipleLinearTransform(nn.Module):\n",
    "    def __init__(self, input_dim, num_transforms):\n",
    "        super(MultipleLinearTransform, self).__init__()\n",
    "        # 定义线性层\n",
    "        self.linear = nn.Linear(input_dim, input_dim)\n",
    "        # 定义变换的次数\n",
    "        self.num_transforms = num_transforms\n",
    "\n",
    "    def forward(self, x):\n",
    "        # 初始化累加结果\n",
    "        total_result = torch.zeros_like(x)\n",
    "        current_input = x\n",
    "        for _ in range(self.num_transforms):\n",
    "            # 进行线性变换\n",
    "            transformed = self.linear(current_input)\n",
    "            # 累加结果\n",
    "            total_result += transformed\n",
    "            # 更新当前输入\n",
    "            current_input = transformed\n",
    "        return total_result\n",
    "\n",
    "\n",
    "class DualNetwork(nn.Module):\n",
    "    def __init__(self, features_dim1, features_dim2, inflect_dim, num_transforms):\n",
    "        super(DualNetwork, self).__init__()\n",
    "        # 定义两个单层网络\n",
    "        self.model1 = nn.Linear(features_dim1, inflect_dim)  # 第一个网络\n",
    "        self.model2 = nn.Linear(features_dim2, inflect_dim)  # 第二个网络\n",
    "        self.transform = MultipleLinearTransform(inflect_dim, num_transforms)\n",
    "\n",
    "    def forward(self, x1, x2):\n",
    "        # 前向传播\n",
    "        output1 = self.model1(x1)\n",
    "        output2 = self.model2(x2)\n",
    "\n",
    "        # 使用 MultipleLinearTransform 进行多次线性变换并求和\n",
    "        sum_result1 = self.transform(output1)\n",
    "        sum_result2 = self.transform(output2)\n",
    "\n",
    "        # 标准化输出\n",
    "        standardized_output1 = self.standardize(sum_result1)\n",
    "        standardized_output2 = self.standardize(sum_result2)\n",
    "\n",
    "        # 计算标准化后的点积\n",
    "        dot_product = torch.matmul(standardized_output1, standardized_output2.T)\n",
    "        return dot_product,sum_result1,sum_result2\n",
    "\n",
    "    def standardize(self, tensor):\n",
    "        # 标准化函数\n",
    "        mean = tensor.mean(dim=0, keepdim=True)\n",
    "        std = tensor.std(dim=0, keepdim=True)\n",
    "        std = torch.clamp(std, min=1e-8)  # 避免除零错误\n",
    "        return (tensor - mean) / std"
   ]
  },
  {
   "cell_type": "code",
   "execution_count": 10,
   "id": "e27ee2dc-3ec4-46ba-85fa-e75b3896ab7c",
   "metadata": {},
   "outputs": [],
   "source": [
    "model2 = DualNetwork(x.shape[1], x1.shape[1],512,len(x))"
   ]
  },
  {
   "cell_type": "code",
   "execution_count": 11,
   "id": "84e88473-eca2-4c24-8d08-c8b30f197c04",
   "metadata": {
    "scrolled": true
   },
   "outputs": [
    {
     "name": "stdout",
     "output_type": "stream",
     "text": [
      "Epoch [0], Loss: 74.9666\n",
      "Epoch [1], Loss: 361.6864\n",
      "Epoch [2], Loss: 397.3002\n",
      "Epoch [3], Loss: 382.1399\n",
      "Epoch [4], Loss: 396.7712\n",
      "Epoch [5], Loss: 291.2859\n",
      "Epoch [6], Loss: 259.9399\n",
      "Epoch [7], Loss: 224.6414\n",
      "Epoch [8], Loss: 193.6640\n",
      "Epoch [9], Loss: 168.9738\n",
      "Epoch [10], Loss: 147.5359\n",
      "Epoch [11], Loss: 129.5943\n",
      "Epoch [12], Loss: 113.4595\n",
      "Epoch [13], Loss: 100.8026\n",
      "Epoch [14], Loss: 91.3070\n",
      "Epoch [15], Loss: 82.6032\n",
      "Epoch [16], Loss: 74.9069\n",
      "Epoch [17], Loss: 68.3992\n",
      "Epoch [18], Loss: 62.2264\n",
      "Epoch [19], Loss: 56.5008\n",
      "Epoch [20], Loss: 51.9929\n",
      "Epoch [21], Loss: 48.3352\n",
      "Epoch [22], Loss: 44.7560\n",
      "Epoch [23], Loss: 41.2315\n",
      "Epoch [24], Loss: 38.0957\n",
      "Epoch [25], Loss: 35.3536\n",
      "Epoch [26], Loss: 32.8217\n",
      "Epoch [27], Loss: 30.4284\n",
      "Epoch [28], Loss: 28.2344\n",
      "Epoch [29], Loss: 26.2430\n",
      "Epoch [30], Loss: 24.4202\n",
      "Epoch [31], Loss: 22.7350\n",
      "Epoch [32], Loss: 21.1490\n",
      "Epoch [33], Loss: 19.6542\n",
      "Epoch [34], Loss: 18.2822\n",
      "Epoch [35], Loss: 17.0436\n",
      "Epoch [36], Loss: 15.8945\n",
      "Epoch [37], Loss: 14.8164\n",
      "Epoch [38], Loss: 13.8179\n",
      "Epoch [39], Loss: 12.9190\n",
      "Epoch [40], Loss: 12.1148\n",
      "Epoch [41], Loss: 11.3696\n",
      "Epoch [42], Loss: 10.6514\n",
      "Epoch [43], Loss: 9.9632\n",
      "Epoch [44], Loss: 9.3263\n",
      "Epoch [45], Loss: 8.7474\n",
      "Epoch [46], Loss: 8.2176\n",
      "Epoch [47], Loss: 7.7317\n",
      "Epoch [48], Loss: 7.2861\n",
      "Epoch [49], Loss: 6.8736\n",
      "模型参数：\n",
      "Parameter containing:\n",
      "tensor([[-0.0076,  0.0003,  0.0019,  ..., -0.0063, -0.0030,  0.0028],\n",
      "        [-0.0066, -0.0013, -0.0005,  ..., -0.0070,  0.0057, -0.0005],\n",
      "        [ 0.0006, -0.0018, -0.0056,  ..., -0.0092,  0.0010, -0.0070],\n",
      "        ...,\n",
      "        [-0.0016,  0.0027,  0.0018,  ..., -0.0014,  0.0034,  0.0042],\n",
      "        [-0.0014, -0.0022,  0.0045,  ...,  0.0034,  0.0002,  0.0019],\n",
      "        [ 0.0056,  0.0042,  0.0061,  ...,  0.0038,  0.0010,  0.0016]],\n",
      "       requires_grad=True)\n",
      "Parameter containing:\n",
      "tensor([ 1.1260e-03, -4.7409e-04, -1.1463e-04,  2.6918e-03,  2.7574e-03,\n",
      "        -2.1183e-03,  6.4831e-04, -3.0547e-04,  3.9686e-04,  2.9886e-03,\n",
      "        -1.0427e-03, -1.4220e-03,  1.5510e-03,  4.9570e-03, -2.4607e-03,\n",
      "        -1.8977e-03,  2.8375e-03, -1.6471e-03, -1.0611e-03,  8.1723e-05,\n",
      "         3.6481e-03, -3.5180e-04,  7.2205e-04,  2.6310e-03, -1.8534e-03,\n",
      "         2.6881e-05,  9.3426e-04, -2.3097e-03,  1.4088e-03,  1.3449e-03,\n",
      "        -9.0340e-04, -2.5656e-03, -1.6603e-03, -2.7149e-03,  2.2286e-03,\n",
      "        -1.0805e-04,  3.2683e-04, -1.9120e-03, -4.9226e-03, -3.5278e-03,\n",
      "         6.1613e-04,  2.6726e-03,  3.6137e-03,  1.8638e-03, -3.1378e-03,\n",
      "         1.1889e-03, -4.2976e-03, -3.6162e-03,  2.0454e-03,  2.2364e-03,\n",
      "         2.1455e-03, -2.9875e-03, -2.6254e-03, -1.2714e-03, -2.5959e-03,\n",
      "        -7.8840e-04, -5.0027e-04, -5.0024e-03, -2.0062e-03, -4.4924e-03,\n",
      "        -3.3082e-03, -1.7970e-03, -7.4385e-04, -2.6034e-03, -6.8183e-04,\n",
      "         5.1970e-04, -2.3338e-03, -2.6441e-03,  3.2980e-03,  1.5680e-03,\n",
      "        -5.4804e-04, -2.4815e-03,  2.1316e-03, -3.0315e-03, -3.3887e-04,\n",
      "         5.0302e-04,  4.3117e-04,  3.2367e-03,  3.0770e-03, -3.6781e-03,\n",
      "         2.1078e-04,  1.7441e-03, -1.4350e-03, -1.2504e-05, -2.9872e-03,\n",
      "         5.8437e-05,  1.7065e-03,  1.8983e-03,  1.7067e-03,  1.4902e-03,\n",
      "         2.6251e-04, -3.1050e-03, -1.8226e-04, -6.4270e-04, -3.2445e-03,\n",
      "         3.2318e-03,  2.4723e-03,  2.9428e-03,  7.0204e-04,  6.8884e-04,\n",
      "        -2.2104e-03, -2.6821e-03,  1.2913e-03,  1.1568e-03,  2.0553e-03,\n",
      "        -2.9664e-03,  1.5936e-03, -1.5587e-04, -6.8115e-04,  4.9223e-03,\n",
      "         2.3319e-04, -2.7421e-04,  3.8189e-03, -2.6510e-03,  1.6984e-03,\n",
      "        -2.9805e-03, -2.5114e-03,  1.6043e-03, -6.3736e-04, -3.6997e-03,\n",
      "        -1.9311e-04,  1.0964e-03,  1.6943e-03, -2.9257e-03, -8.3567e-05,\n",
      "        -2.8847e-03,  8.7814e-04,  6.4167e-04, -6.7823e-05, -2.9743e-03,\n",
      "         2.5472e-03,  1.8909e-03, -4.6552e-03, -9.5332e-04,  8.2438e-04,\n",
      "         2.4233e-05, -2.6119e-03,  2.8143e-03, -3.8713e-03,  6.3761e-04,\n",
      "         8.3649e-04,  2.3984e-03, -1.4491e-03, -4.0966e-03,  1.4652e-03,\n",
      "         3.5641e-03,  2.9454e-04,  4.1946e-03, -1.3731e-03,  2.6463e-03,\n",
      "        -9.8194e-04,  9.4322e-04, -1.9383e-03, -2.1870e-03, -1.1889e-04,\n",
      "         1.1544e-03,  2.2577e-03,  1.2269e-03,  6.1200e-04, -1.4510e-03,\n",
      "        -8.7154e-04, -2.5693e-03, -3.0566e-03,  9.4387e-04, -7.7121e-04,\n",
      "        -1.1374e-03,  4.3075e-03,  5.0834e-04, -1.0371e-03,  1.9174e-03,\n",
      "         6.3352e-04,  2.5192e-03,  3.5206e-03,  3.0540e-03,  2.5243e-03,\n",
      "        -6.7102e-04,  1.2030e-03, -2.7237e-03, -1.5078e-03,  6.4335e-04,\n",
      "         3.4924e-03,  2.9935e-03,  3.8236e-03,  1.7455e-03,  1.2832e-04,\n",
      "         6.5647e-04,  3.1310e-03,  1.5522e-04, -4.7375e-03,  3.6174e-04,\n",
      "         2.8564e-03,  1.2241e-03, -2.2222e-03,  5.8049e-04, -3.4106e-03,\n",
      "        -3.2192e-03,  2.7391e-03,  1.2464e-04, -1.7578e-03,  1.8630e-03,\n",
      "        -4.5300e-04, -2.6159e-04,  1.8404e-03, -1.0616e-03, -1.2947e-04,\n",
      "         2.2253e-03,  4.7388e-05, -2.1345e-03,  2.9916e-03, -1.3247e-03,\n",
      "         9.1972e-04, -1.9789e-03, -9.7101e-04, -3.5933e-03,  3.6908e-03,\n",
      "         3.9876e-03,  5.7805e-04,  4.1098e-03,  7.0384e-05, -1.7497e-03,\n",
      "        -7.2729e-04,  1.1651e-03, -3.2444e-03,  4.0067e-03, -2.3195e-03,\n",
      "         3.1072e-03,  1.0048e-03, -1.6250e-03,  3.8339e-03,  1.3359e-03,\n",
      "        -2.4245e-03,  2.1549e-03, -3.7415e-03,  1.1727e-04,  4.2959e-05,\n",
      "        -1.8918e-03,  1.2762e-03, -2.0383e-03, -2.7691e-03,  1.1302e-03,\n",
      "         2.5428e-03,  2.6110e-03, -1.5875e-03, -2.2563e-04,  5.2574e-03,\n",
      "         5.6182e-04,  4.4293e-03, -5.7303e-04,  2.1329e-03,  1.7460e-03,\n",
      "        -2.0804e-03,  2.9092e-03, -3.9853e-04,  7.4343e-04, -3.0083e-03,\n",
      "         5.4536e-04, -2.0731e-03,  2.8274e-03,  2.8433e-03,  2.8121e-03,\n",
      "        -2.2749e-03,  3.4713e-03, -7.6415e-04,  2.2784e-03, -1.7025e-03,\n",
      "         4.9875e-04,  6.9729e-04,  2.0576e-03,  1.6553e-03,  5.2428e-04,\n",
      "        -1.6387e-03, -2.6306e-03, -3.1513e-04, -2.4327e-03,  8.1429e-05,\n",
      "         2.8015e-03, -3.5843e-04, -1.9081e-03,  4.5692e-04,  2.9535e-03,\n",
      "         2.2065e-03, -8.9765e-04,  1.7497e-03, -3.5976e-03,  3.8875e-04,\n",
      "        -4.1228e-03,  2.6063e-03, -3.4304e-03, -2.1325e-03, -2.3433e-04,\n",
      "        -1.0888e-03,  2.7197e-03, -1.6530e-03,  2.8850e-04,  4.3988e-05,\n",
      "        -1.8580e-03,  1.4013e-03,  4.4495e-03,  1.5325e-03, -3.5166e-03,\n",
      "         4.6179e-03, -2.7691e-04,  2.8018e-03, -2.1816e-03,  1.1820e-03,\n",
      "        -1.7392e-03, -3.1712e-03, -3.6076e-03, -5.5263e-04, -5.5720e-04,\n",
      "        -1.5566e-03,  2.8635e-03, -3.5477e-03, -2.2352e-03, -3.0040e-03,\n",
      "        -1.9366e-03, -3.5041e-03, -3.0436e-03,  5.5782e-03,  2.8343e-03,\n",
      "         2.7248e-03,  4.9997e-03,  4.5703e-04, -3.6320e-03,  3.4541e-03,\n",
      "        -5.4612e-06, -9.8522e-05, -2.0688e-03,  2.7290e-03, -3.1899e-03,\n",
      "         3.6784e-03, -3.9424e-03, -2.0151e-03, -2.2060e-04,  2.8044e-03,\n",
      "         2.6594e-03,  1.3428e-04,  3.1974e-03,  1.0513e-06,  1.8960e-03,\n",
      "        -2.9085e-03,  1.0764e-03, -1.0633e-03, -4.2109e-04,  4.8200e-03,\n",
      "         8.6985e-04, -1.3344e-03,  1.6144e-03, -2.1493e-03,  5.6927e-04,\n",
      "         1.3529e-03, -3.5045e-03, -1.5191e-03, -2.9493e-04, -1.4574e-03,\n",
      "         1.9674e-03,  1.5854e-03, -2.3985e-03,  1.2230e-03,  1.9045e-03,\n",
      "         1.1117e-03, -3.9345e-03,  3.6696e-03,  3.6224e-03,  2.0827e-03,\n",
      "        -1.1132e-03, -1.2125e-03, -8.8535e-04, -6.6846e-04,  1.0624e-03,\n",
      "        -5.0450e-03, -3.0305e-04,  9.1123e-05, -1.7928e-03,  1.7207e-03,\n",
      "         8.8821e-05, -3.3853e-03, -2.1970e-04,  4.9031e-05, -4.5582e-03,\n",
      "        -1.7877e-03, -2.9999e-04, -3.9481e-05, -3.6587e-03, -4.9641e-03,\n",
      "        -2.1691e-03, -3.0268e-04, -2.4806e-03,  1.4263e-03, -3.9344e-03,\n",
      "        -2.6005e-03, -8.6644e-04,  1.1903e-03,  6.6472e-04, -8.9910e-04,\n",
      "         2.0094e-03, -3.9029e-03, -1.8324e-03, -3.6090e-03,  9.6886e-04,\n",
      "         3.1991e-03, -2.0100e-03,  1.0197e-03, -1.1637e-03,  2.0354e-03,\n",
      "         3.0183e-03,  1.7306e-03, -3.6115e-04,  2.6080e-03, -4.1807e-03,\n",
      "        -1.1736e-04, -1.0975e-03,  3.8758e-03, -2.8070e-03, -3.0419e-03,\n",
      "        -6.1873e-04, -1.8465e-03, -1.0720e-03, -1.8780e-03, -2.9609e-03,\n",
      "         3.9155e-04,  7.6906e-04, -1.2359e-03, -5.7575e-04,  3.1648e-03,\n",
      "         4.0870e-03,  3.3462e-03, -4.2636e-03, -1.8929e-03,  1.6982e-03,\n",
      "        -1.0871e-03, -2.5496e-03,  1.8546e-03,  5.0881e-03, -4.2677e-05,\n",
      "        -4.8006e-04, -3.4487e-03,  9.6731e-04,  1.7484e-06,  9.1953e-04,\n",
      "         1.8256e-03, -4.4510e-03, -1.4241e-03, -5.6794e-04,  1.1550e-03,\n",
      "        -8.0573e-04,  2.6193e-03,  1.8527e-03,  4.4635e-03, -1.0289e-03,\n",
      "         1.4365e-03, -8.8456e-04,  2.2521e-03,  5.9299e-03,  5.8327e-04,\n",
      "        -1.6600e-03,  1.8894e-03, -1.7526e-03, -1.5551e-03,  7.1566e-04,\n",
      "        -3.5967e-03,  3.0362e-03, -1.5447e-05,  8.5362e-04,  2.5825e-03,\n",
      "         3.8083e-03,  2.5448e-03, -3.4184e-03,  8.9344e-04,  4.5511e-03,\n",
      "        -3.5649e-03, -1.4161e-03,  1.8123e-03,  6.5923e-04,  3.5042e-04,\n",
      "         8.9236e-04, -3.1387e-03, -9.6019e-04,  1.7265e-03,  1.6304e-04,\n",
      "         6.0788e-04, -2.1752e-05,  5.0215e-03, -1.4003e-03, -1.5202e-03,\n",
      "        -3.3243e-03,  8.3520e-04, -4.9909e-03, -4.6425e-03, -4.1987e-03,\n",
      "        -1.6918e-03, -3.5106e-03, -9.6666e-04,  3.6651e-03, -3.5970e-03,\n",
      "        -4.2735e-03,  1.1339e-04, -1.0562e-03,  3.2274e-03,  1.0596e-03,\n",
      "         7.5172e-04, -5.3865e-04, -4.2197e-04, -1.1625e-03, -1.2486e-03,\n",
      "         2.1976e-03,  1.9383e-03, -2.0760e-03, -3.5234e-04,  1.5026e-03,\n",
      "         3.7122e-03,  2.2481e-03], requires_grad=True)\n",
      "Parameter containing:\n",
      "tensor([[-0.0028,  0.0139,  0.0090,  ...,  0.0028, -0.0015,  0.0048],\n",
      "        [ 0.0095, -0.0093,  0.0019,  ..., -0.0063,  0.0017,  0.0034],\n",
      "        [-0.0007, -0.0084, -0.0045,  ...,  0.0028,  0.0030, -0.0028],\n",
      "        ...,\n",
      "        [-0.0017, -0.0051,  0.0057,  ...,  0.0033, -0.0062, -0.0048],\n",
      "        [-0.0045,  0.0156, -0.0008,  ...,  0.0068,  0.0107, -0.0071],\n",
      "        [-0.0089,  0.0077,  0.0057,  ..., -0.0080, -0.0060,  0.0042]],\n",
      "       requires_grad=True)\n",
      "Parameter containing:\n",
      "tensor([-4.9378e-04,  1.7091e-03, -4.1295e-03, -1.9557e-03, -3.2382e-03,\n",
      "        -1.3470e-03, -3.1113e-03,  3.9597e-03,  2.7383e-03, -3.6702e-03,\n",
      "        -2.1101e-03,  9.4394e-04,  7.6840e-04,  1.1619e-03, -1.6398e-03,\n",
      "        -2.2939e-03,  3.6815e-03,  4.3821e-03, -1.3024e-03, -4.9385e-04,\n",
      "        -1.3151e-03, -2.6466e-04,  5.3400e-04, -2.0603e-03,  2.9290e-03,\n",
      "        -5.8899e-03,  1.6390e-03,  3.8280e-03,  4.8945e-04, -5.9670e-03,\n",
      "         5.7369e-03, -1.8910e-03, -5.4961e-04,  8.2220e-04,  3.2413e-03,\n",
      "         3.0765e-03,  5.0798e-03,  3.2297e-03,  1.9565e-03,  3.2772e-03,\n",
      "        -2.9039e-03,  3.0647e-03,  3.3321e-03,  2.7890e-03, -2.3819e-03,\n",
      "        -2.2068e-03, -2.0249e-03,  4.2624e-03,  1.4145e-04,  1.5533e-04,\n",
      "         7.0014e-04,  2.6226e-03, -3.3095e-03,  4.2150e-03,  1.3309e-03,\n",
      "        -4.0903e-03, -2.2557e-03,  5.9286e-03, -8.2953e-04,  4.9844e-03,\n",
      "        -3.0039e-03,  2.3569e-03, -9.6644e-04, -1.0842e-03,  2.8847e-03,\n",
      "        -1.7946e-03, -4.2867e-03,  5.5190e-03, -9.5473e-04, -1.5590e-03,\n",
      "         2.5853e-05,  4.1609e-03,  2.6351e-03,  1.3556e-03,  3.4323e-03,\n",
      "         1.8442e-03,  9.5497e-04, -3.8757e-03, -4.0678e-03,  1.5761e-03,\n",
      "        -1.5760e-03, -3.7857e-03,  3.6168e-03, -3.3139e-03,  3.5535e-03,\n",
      "        -3.6208e-03,  4.5322e-03, -7.9878e-04,  1.4471e-03, -2.9444e-03,\n",
      "         1.9225e-03, -2.0840e-03, -1.1544e-03,  3.5749e-03, -3.3691e-03,\n",
      "         1.3812e-03,  1.1748e-03, -2.0948e-03,  3.3941e-03,  1.3573e-03,\n",
      "        -1.1126e-03, -2.9553e-03,  4.6257e-03,  1.1576e-03,  5.3359e-03,\n",
      "        -4.4140e-04, -2.6814e-03, -1.9532e-03,  2.8182e-05, -2.3412e-03,\n",
      "         4.8589e-04, -1.3366e-03, -4.2243e-04,  3.1323e-03,  1.6528e-03,\n",
      "         3.0533e-03, -4.3071e-04,  3.7102e-03,  1.1411e-03,  2.7899e-03,\n",
      "        -3.0286e-03,  4.6382e-03,  3.3715e-03, -3.4160e-03, -2.7716e-03,\n",
      "        -1.6122e-03, -5.4697e-03,  7.8463e-04, -2.6943e-03,  3.0404e-03,\n",
      "        -3.4342e-03, -7.2709e-04, -1.9451e-03,  1.9550e-05,  5.2600e-04,\n",
      "        -7.3010e-05, -2.8571e-03, -3.0538e-03,  1.8463e-03,  2.0351e-03,\n",
      "        -2.6227e-03, -4.7261e-03,  1.8470e-03,  3.5171e-03,  2.4453e-03,\n",
      "        -3.2094e-03, -2.8990e-03, -2.6227e-03,  2.3358e-03,  1.6280e-03,\n",
      "        -2.9895e-03,  4.7350e-03, -1.6323e-03,  1.0659e-03, -2.0879e-03,\n",
      "        -1.4167e-03, -8.9624e-04,  6.9807e-04,  6.8337e-04,  3.4251e-03,\n",
      "        -3.3476e-03,  1.5374e-03, -3.0994e-03,  2.8645e-03,  1.4784e-03,\n",
      "         8.8784e-04,  1.9341e-03,  2.5364e-03,  2.1962e-03, -7.6361e-04,\n",
      "        -7.9377e-04,  2.9903e-03, -2.2227e-03, -1.6500e-03,  3.5126e-03,\n",
      "         1.7592e-03, -1.5041e-03, -1.2707e-03,  3.3592e-03,  1.4339e-03,\n",
      "        -3.7579e-03, -2.7842e-03,  7.8855e-04,  6.5713e-05, -7.7206e-04,\n",
      "         1.5706e-03, -3.3589e-03,  1.9283e-03,  2.9901e-03, -7.4810e-04,\n",
      "        -3.1169e-03, -4.6459e-03,  5.7440e-03,  3.9256e-04,  4.0211e-03,\n",
      "         4.9253e-03, -2.4620e-03, -4.1451e-03, -1.5881e-03, -4.0731e-03,\n",
      "        -1.9891e-03,  4.2036e-03, -5.5848e-04,  4.1345e-03, -9.8003e-04,\n",
      "        -1.8346e-03, -1.5616e-03,  8.2157e-04, -4.0968e-04,  1.6585e-03,\n",
      "        -2.8898e-04, -8.9794e-04, -2.2279e-03,  3.9995e-03, -4.6361e-03,\n",
      "         1.1061e-03,  4.4515e-03, -3.2957e-03, -1.1128e-03,  1.7782e-03,\n",
      "         4.6722e-03, -1.0175e-03, -3.2139e-04,  3.6436e-03, -3.0293e-04,\n",
      "        -3.3145e-04, -1.4744e-03, -5.5207e-03, -2.7372e-03,  3.5609e-03,\n",
      "         7.0744e-04, -9.3186e-04, -1.6624e-03, -1.3290e-03, -4.3166e-03,\n",
      "        -2.8484e-03,  3.5470e-03,  5.1602e-03, -6.7994e-04,  1.5417e-03,\n",
      "        -2.6450e-03, -4.8821e-03, -4.7966e-03, -2.5665e-03,  5.8880e-04,\n",
      "         1.3033e-03, -1.0338e-03, -3.6678e-04, -4.0996e-03, -2.1768e-03,\n",
      "         3.1623e-03, -3.5002e-03, -2.2977e-03, -4.1999e-03, -4.0914e-03,\n",
      "         7.7535e-04, -7.8322e-04, -2.3089e-03, -4.2073e-03,  2.8455e-03,\n",
      "        -1.3133e-04, -2.7492e-03,  5.1653e-04,  3.0506e-03,  1.6684e-03,\n",
      "         2.5824e-03,  2.1446e-03,  2.2210e-03,  8.4052e-04,  5.1345e-03,\n",
      "        -3.8822e-04, -3.0014e-03, -2.2463e-03, -2.7097e-04, -1.6235e-03,\n",
      "         2.8518e-03, -3.2582e-03,  5.0336e-03,  1.4700e-03, -3.2262e-03,\n",
      "         3.9957e-03, -1.2018e-03,  2.6641e-03, -5.4012e-04,  1.4837e-03,\n",
      "        -1.9004e-03, -5.5432e-03, -1.7585e-03,  6.0297e-04, -2.7449e-03,\n",
      "         1.8718e-03, -1.4737e-03,  7.7581e-04,  2.5636e-03, -2.5730e-03,\n",
      "        -2.7712e-03, -1.8796e-03, -2.2478e-03,  1.0175e-03, -3.6566e-04,\n",
      "        -1.5078e-03, -8.9933e-04, -2.1389e-03,  5.2770e-03, -2.6703e-03,\n",
      "         1.0560e-03,  2.5023e-03, -2.3336e-03, -3.7634e-03, -7.8914e-04,\n",
      "         1.3861e-03, -1.6861e-03,  1.8782e-03,  3.8657e-03, -3.2731e-04,\n",
      "         3.2727e-03,  3.7601e-03, -4.2112e-03, -3.1464e-03, -2.2330e-03,\n",
      "        -2.6381e-03, -2.8232e-03,  2.9183e-03,  3.4532e-03,  3.1919e-04,\n",
      "        -2.6227e-03,  1.3545e-03, -1.2583e-03, -4.8944e-04, -3.4527e-03,\n",
      "         9.6414e-04, -2.5954e-03, -1.3407e-03, -1.6861e-03,  1.3692e-03,\n",
      "        -3.1859e-03, -3.0941e-03, -3.8413e-03,  2.8336e-03,  3.6340e-03,\n",
      "        -2.2660e-03, -2.2879e-03, -1.0102e-03, -3.5549e-03,  4.5798e-04,\n",
      "        -8.6242e-04, -5.4669e-03,  4.2386e-03,  1.8365e-03, -1.9050e-03,\n",
      "         1.7722e-03,  2.7954e-03,  2.3168e-03,  2.4055e-03,  4.9031e-03,\n",
      "         2.5008e-03,  7.5211e-04, -1.3629e-03, -7.5509e-04,  3.1026e-03,\n",
      "        -1.2128e-03,  4.0557e-03, -3.3342e-03, -5.9337e-04, -2.3324e-03,\n",
      "        -2.9858e-03,  3.9243e-03, -1.2927e-03,  3.0454e-03, -1.1624e-03,\n",
      "        -2.3346e-03,  2.2381e-03,  2.4020e-03, -1.8301e-03,  3.5642e-03,\n",
      "        -2.4141e-03, -5.4146e-04,  4.2273e-03,  5.1407e-03,  3.4849e-03,\n",
      "        -3.9095e-03,  4.1422e-03, -3.5662e-03,  2.5105e-03,  3.1706e-03,\n",
      "        -1.5443e-03,  1.8361e-03, -4.5339e-04, -3.0342e-03,  4.1043e-03,\n",
      "        -2.9742e-03,  3.2625e-03,  2.3204e-04,  2.9120e-03,  4.8624e-03,\n",
      "         2.2033e-03,  6.2344e-04, -2.8343e-03,  3.0473e-03,  4.7929e-04,\n",
      "         4.9054e-04, -1.7429e-03, -1.3171e-03, -5.1280e-03, -8.2295e-05,\n",
      "        -3.1428e-03,  1.5185e-03,  1.6695e-03, -2.6034e-04, -6.9671e-05,\n",
      "        -3.3753e-03, -1.5882e-03, -3.4148e-05,  3.3970e-03, -3.0529e-03,\n",
      "        -1.8920e-03,  1.4744e-04, -3.3607e-03,  3.1641e-03, -3.8640e-03,\n",
      "        -2.6399e-03,  3.1097e-03, -1.3403e-03,  3.1460e-04, -4.6946e-03,\n",
      "        -3.2798e-03,  2.4725e-03,  3.9749e-04, -2.7600e-03, -2.7754e-03,\n",
      "        -1.6124e-03, -3.0370e-04, -5.0804e-03, -3.0716e-03, -1.3427e-03,\n",
      "        -3.8628e-03,  3.5674e-03, -5.0238e-03, -1.3646e-05,  2.3860e-03,\n",
      "         2.6100e-05,  6.4581e-03,  1.9424e-04,  1.8494e-03,  2.2722e-03,\n",
      "         3.3272e-03, -5.2364e-04,  4.4682e-03, -3.3473e-03,  4.1766e-03,\n",
      "        -5.8097e-03,  2.1027e-03, -5.3106e-03, -4.9618e-03,  6.9350e-04,\n",
      "         1.8462e-03,  3.8308e-03,  3.5662e-03,  3.4398e-03, -4.2344e-03,\n",
      "         4.2934e-03, -2.3312e-03, -3.5619e-03,  2.7315e-03,  2.0947e-03,\n",
      "        -2.4066e-03,  2.2479e-03,  4.4508e-03, -1.9451e-04, -2.2542e-03,\n",
      "        -3.1821e-04,  2.6787e-03, -2.4816e-03,  1.1539e-03,  2.9122e-04,\n",
      "        -9.7559e-04,  1.3379e-03,  1.6964e-03,  4.6089e-03,  7.6421e-04,\n",
      "        -1.8268e-03, -2.9318e-03, -3.6042e-03, -3.5385e-04, -3.1039e-03,\n",
      "        -2.2493e-03,  1.5376e-04,  3.1145e-03,  4.5234e-03, -3.2409e-03,\n",
      "         3.5524e-03,  4.5323e-03, -7.3822e-04, -2.7367e-03, -1.8284e-03,\n",
      "         2.3930e-03, -3.4234e-03, -1.4862e-03, -2.6358e-03, -2.3490e-03,\n",
      "        -3.3664e-03,  7.8546e-04, -4.1533e-03,  1.8956e-03, -4.2954e-03,\n",
      "        -3.6036e-04, -1.5008e-03,  1.2020e-03, -3.8488e-04,  1.4282e-03,\n",
      "        -2.0460e-03,  2.3198e-04], requires_grad=True)\n",
      "Parameter containing:\n",
      "tensor([[ 0.0180, -0.0231, -0.0050,  ...,  0.0005, -0.0362, -0.0280],\n",
      "        [ 0.0400, -0.0102,  0.0264,  ..., -0.0270, -0.0358, -0.0055],\n",
      "        [-0.0156, -0.0059, -0.0509,  ..., -0.0275, -0.0123, -0.0022],\n",
      "        ...,\n",
      "        [ 0.0198,  0.0083,  0.0306,  ..., -0.0483,  0.0287, -0.0238],\n",
      "        [ 0.0401, -0.0340, -0.0032,  ..., -0.0357, -0.0390,  0.0121],\n",
      "        [-0.0338, -0.0228, -0.0105,  ...,  0.0196,  0.0006, -0.0196]],\n",
      "       requires_grad=True)\n",
      "Parameter containing:\n",
      "tensor([-0.0203,  0.0280, -0.0146, -0.0481, -0.0097,  0.0276,  0.0248,  0.0208,\n",
      "        -0.0255, -0.0427, -0.0200, -0.0207,  0.0184, -0.0292, -0.0467, -0.0166,\n",
      "         0.0362,  0.0340,  0.0217,  0.0336, -0.0431,  0.0186,  0.0081, -0.0238,\n",
      "        -0.0210,  0.0124, -0.0132,  0.0338,  0.0138, -0.0011,  0.0130, -0.0012,\n",
      "        -0.0052, -0.0343,  0.0204,  0.0263, -0.0093,  0.0123, -0.0334, -0.0012,\n",
      "        -0.0113, -0.0024,  0.0315, -0.0106, -0.0186,  0.0455, -0.0161,  0.0362,\n",
      "         0.0045, -0.0073,  0.0105,  0.0207, -0.0189,  0.0046,  0.0411, -0.0269,\n",
      "        -0.0225, -0.0253, -0.0247, -0.0202, -0.0025, -0.0219, -0.0417,  0.0323,\n",
      "        -0.0248, -0.0004, -0.0214,  0.0353,  0.0324, -0.0053,  0.0023,  0.0167,\n",
      "        -0.0288,  0.0143, -0.0224,  0.0216, -0.0367, -0.0336,  0.0377,  0.0172,\n",
      "        -0.0169,  0.0412,  0.0477, -0.0275, -0.0475,  0.0297,  0.0126, -0.0260,\n",
      "         0.0178,  0.0164, -0.0098, -0.0361,  0.0351,  0.0392,  0.0192, -0.0025,\n",
      "         0.0092,  0.0154, -0.0306, -0.0276,  0.0047,  0.0110, -0.0067, -0.0307,\n",
      "         0.0328,  0.0084, -0.0147, -0.0107,  0.0321, -0.0121, -0.0183, -0.0297,\n",
      "         0.0375,  0.0151, -0.0265, -0.0202,  0.0048,  0.0104, -0.0031, -0.0299,\n",
      "         0.0418,  0.0345,  0.0329, -0.0295, -0.0008,  0.0462,  0.0040, -0.0168,\n",
      "        -0.0079, -0.0060, -0.0338,  0.0442,  0.0396,  0.0280,  0.0279,  0.0368,\n",
      "         0.0304, -0.0126, -0.0295,  0.0185, -0.0355, -0.0202, -0.0333,  0.0358,\n",
      "         0.0360,  0.0336,  0.0097, -0.0012,  0.0350, -0.0360, -0.0010,  0.0274,\n",
      "         0.0370, -0.0355,  0.0200,  0.0003, -0.0192,  0.0189, -0.0195, -0.0319,\n",
      "         0.0163,  0.0147,  0.0092,  0.0463, -0.0044,  0.0159,  0.0012,  0.0087,\n",
      "         0.0144, -0.0042, -0.0194,  0.0038,  0.0445, -0.0418,  0.0075, -0.0498,\n",
      "         0.0476,  0.0434, -0.0064, -0.0213,  0.0001,  0.0136, -0.0012,  0.0207,\n",
      "        -0.0180, -0.0272, -0.0341, -0.0173, -0.0196,  0.0034,  0.0237, -0.0443,\n",
      "         0.0054,  0.0241,  0.0483, -0.0130, -0.0087, -0.0071, -0.0028,  0.0095,\n",
      "         0.0432, -0.0152, -0.0364,  0.0081, -0.0043, -0.0145, -0.0070,  0.0224,\n",
      "         0.0252,  0.0330, -0.0213,  0.0147,  0.0163,  0.0378,  0.0024,  0.0262,\n",
      "        -0.0150, -0.0200,  0.0481, -0.0310,  0.0174, -0.0277, -0.0265, -0.0422,\n",
      "         0.0119,  0.0163, -0.0390, -0.0040, -0.0281, -0.0411, -0.0354,  0.0011,\n",
      "        -0.0283,  0.0442, -0.0240,  0.0098,  0.0172,  0.0012, -0.0115,  0.0023,\n",
      "        -0.0335, -0.0261, -0.0154, -0.0204, -0.0071,  0.0291, -0.0039, -0.0218,\n",
      "        -0.0338, -0.0141,  0.0069, -0.0081,  0.0372, -0.0139,  0.0466, -0.0006,\n",
      "         0.0426,  0.0052,  0.0080,  0.0436,  0.0351,  0.0266,  0.0442,  0.0151,\n",
      "        -0.0174, -0.0296, -0.0423, -0.0496,  0.0171,  0.0111,  0.0323, -0.0114,\n",
      "         0.0171,  0.0005, -0.0257, -0.0241, -0.0322, -0.0007,  0.0083, -0.0116,\n",
      "        -0.0027,  0.0345, -0.0172,  0.0283, -0.0039,  0.0349, -0.0104,  0.0298,\n",
      "        -0.0128, -0.0251,  0.0426,  0.0212,  0.0177,  0.0218,  0.0434, -0.0289,\n",
      "        -0.0370, -0.0437, -0.0369,  0.0100,  0.0346, -0.0350, -0.0221, -0.0093,\n",
      "         0.0332,  0.0013,  0.0487, -0.0236,  0.0266,  0.0385, -0.0279,  0.0040,\n",
      "         0.0329,  0.0052,  0.0273, -0.0160, -0.0378, -0.0247,  0.0040,  0.0250,\n",
      "        -0.0084,  0.0055, -0.0422,  0.0033, -0.0146,  0.0290, -0.0241, -0.0299,\n",
      "         0.0307, -0.0013, -0.0004, -0.0346, -0.0210,  0.0236,  0.0343,  0.0203,\n",
      "        -0.0170,  0.0053, -0.0377, -0.0466,  0.0370,  0.0188,  0.0096,  0.0238,\n",
      "         0.0363,  0.0178, -0.0077, -0.0471, -0.0266,  0.0127,  0.0223,  0.0180,\n",
      "        -0.0281, -0.0113,  0.0248,  0.0045, -0.0105, -0.0144, -0.0280,  0.0282,\n",
      "         0.0257,  0.0104, -0.0312, -0.0144, -0.0244,  0.0125,  0.0285,  0.0372,\n",
      "        -0.0010,  0.0335,  0.0180,  0.0291, -0.0287,  0.0255,  0.0265,  0.0090,\n",
      "         0.0161,  0.0122, -0.0261,  0.0286, -0.0247, -0.0349,  0.0205, -0.0438,\n",
      "        -0.0264,  0.0201,  0.0242,  0.0350, -0.0460, -0.0170, -0.0266,  0.0382,\n",
      "         0.0240, -0.0053,  0.0036, -0.0329,  0.0148,  0.0357,  0.0466,  0.0148,\n",
      "        -0.0283, -0.0379, -0.0061,  0.0286, -0.0018,  0.0120, -0.0280, -0.0491,\n",
      "         0.0425, -0.0296,  0.0370, -0.0003,  0.0070, -0.0129, -0.0154, -0.0008,\n",
      "         0.0237,  0.0147, -0.0417, -0.0373,  0.0090, -0.0309,  0.0370,  0.0013,\n",
      "         0.0152,  0.0292, -0.0016,  0.0393,  0.0162,  0.0148, -0.0156,  0.0337,\n",
      "         0.0098, -0.0109,  0.0308, -0.0172,  0.0206, -0.0266,  0.0047,  0.0243,\n",
      "         0.0261,  0.0478,  0.0022,  0.0346,  0.0346,  0.0222, -0.0369,  0.0350,\n",
      "        -0.0128, -0.0345, -0.0087,  0.0409, -0.0160, -0.0387,  0.0311,  0.0407,\n",
      "         0.0377,  0.0243,  0.0163, -0.0192, -0.0074,  0.0080, -0.0396,  0.0251,\n",
      "         0.0492,  0.0376,  0.0024,  0.0294, -0.0014, -0.0393, -0.0278, -0.0463,\n",
      "         0.0079, -0.0368, -0.0305, -0.0145,  0.0293, -0.0470,  0.0244, -0.0484,\n",
      "         0.0473,  0.0347,  0.0252, -0.0334,  0.0190, -0.0188, -0.0073, -0.0312,\n",
      "        -0.0154, -0.0007, -0.0189, -0.0075, -0.0252, -0.0160, -0.0375,  0.0221,\n",
      "        -0.0147, -0.0335,  0.0325, -0.0357, -0.0380, -0.0120, -0.0231,  0.0102,\n",
      "         0.0137,  0.0308,  0.0457, -0.0350,  0.0313, -0.0403,  0.0482,  0.0373],\n",
      "       requires_grad=True)\n"
     ]
    }
   ],
   "source": [
    "import torch\n",
    "import torch.nn as nn\n",
    "import torch.optim as optim\n",
    "import numpy as np\n",
    "import random\n",
    "def set_seed(seed):\n",
    "    torch.manual_seed(seed)\n",
    "    torch.cuda.manual_seed_all(seed)\n",
    "    np.random.seed(seed)\n",
    "    random.seed(seed)\n",
    "    torch.backends.cudnn.deterministic = True\n",
    "    torch.backends.cudnn.benchmark = False\n",
    "set_seed(42)\n",
    "criterion = nn.CrossEntropyLoss()\n",
    "euclidean_loss = nn.MSELoss()\n",
    "optimizer = optim.Adam(model2.parameters(), lr=0.001)\n",
    "label=np.arange(x.shape[0])\n",
    "label = torch.from_numpy(label)\n",
    "losses = []\n",
    "cosine_loss=[]\n",
    "distance_loss=[]\n",
    "# 训练示例\n",
    "for epoch in range(50):  # 假设训练100个epoch\n",
    "    optimizer.zero_grad()  # 清除上一步的梯度\n",
    "    output = model2(x,x1)\n",
    "    euclidean_distance_loss = euclidean_loss(output[1], output[2])\n",
    "    loss = criterion(output[0], label)\n",
    "    total_loss =0.5 * loss + 0.5 * euclidean_distance_loss# 计算交叉熵损失\n",
    "    total_loss.backward()  # 反向传播\n",
    "    optimizer.step()\n",
    "    losses.append(total_loss.item())\n",
    "    cosine_loss.append(loss.item())\n",
    "    distance_loss.append(euclidean_distance_loss.item())# 更新参数\n",
    "    #if epoch % 10 == 0:  # 每10个epoch打印一次损失\n",
    "    print(f'Epoch [{epoch}], Loss: {total_loss.item():.4f}')\n",
    "print(\"模型参数：\")\n",
    "for param in model2.parameters():\n",
    "    print(param)"
   ]
  },
  {
   "cell_type": "code",
   "execution_count": 10,
   "id": "50dd7195-5c33-4f77-b0c3-33ba7aa35e5d",
   "metadata": {},
   "outputs": [
    {
     "data": {
      "image/png": "[encoded data removed]",
      "text/plain": [
       "<Figure size 1000x600 with 1 Axes>"
      ]
     },
     "metadata": {},
     "output_type": "display_data"
    }
   ],
   "source": [
    "import numpy as np\n",
    "import matplotlib.pyplot as plt\n",
    "plt.figure(figsize=(10, 6))\n",
    "plt.plot(range(50), losses, marker='o')\n",
    "plt.title('Training Loss over Epochs')\n",
    "plt.xlabel('Epoch')\n",
    "plt.ylabel('Loss')\n",
    "plt.grid(True)\n",
    "plt.show()"
   ]
  },
  {
   "cell_type": "code",
   "execution_count": 20,
   "id": "1c7b72a5-250d-4ae2-bcfc-a0c45ed51e2b",
   "metadata": {},
   "outputs": [],
   "source": [
    "import pandas as pd\n",
    "loss_df = pd.DataFrame({\n",
    "    \"Loss1\": cosine_loss,\n",
    "    \"Loss2\": distance_loss,\n",
    "    \"TotalLoss\": losses\n",
    "})\n",
    "loss_df.to_csv(\"loss_values_2.csv\", index=False)"
   ]
  },
  {
   "cell_type": "code",
   "execution_count": 12,
   "id": "4dcfe56b-fece-469a-82dd-726e1350e833",
   "metadata": {},
   "outputs": [],
   "source": [
    "x_combine=torch.cat((output[1], output[2]), dim=1)"
   ]
  },
  {
   "cell_type": "code",
   "execution_count": 13,
   "id": "f9faf5a1-53c5-4690-9eef-f1aa40db1d20",
   "metadata": {},
   "outputs": [],
   "source": [
    "features_np = x_combine.detach().numpy()"
   ]
  },
  {
   "cell_type": "code",
   "execution_count": 14,
   "id": "c4eeb8ba-6d5c-43b3-b5ee-a2dacebad01c",
   "metadata": {},
   "outputs": [],
   "source": [
    "from sklearn.model_selection import train_test_split\n",
    "X_train_val, X_test, y_train_val, y_test = train_test_split(features_np, labels, test_size=0.25, random_state=42)\n",
    "X_train, X_val, y_train, y_val = train_test_split(X_train_val, y_train_val, test_size=0.2, random_state=42)\n",
    "X_train = torch.tensor(X_train, dtype=torch.float32)\n",
    "X_test = torch.tensor(X_test, dtype=torch.float32)\n",
    "y_train = torch.tensor(y_train, dtype=torch.float32)\n",
    "y_test = torch.tensor(y_test, dtype=torch.float32)\n",
    "X_val = torch.tensor(X_val, dtype=torch.float32)\n",
    "y_val = torch.tensor(y_val, dtype=torch.float32)"
   ]
  },
  {
   "cell_type": "code",
   "execution_count": 15,
   "id": "bd012d9b-ebdf-497d-bfe5-fca8741c9842",
   "metadata": {},
   "outputs": [
    {
     "name": "stdout",
     "output_type": "stream",
     "text": [
      "BinaryClassifier(\n",
      "  (fc1): Linear(in_features=1024, out_features=128, bias=True)\n",
      "  (fc2): Linear(in_features=128, out_features=64, bias=True)\n",
      "  (fc3): Linear(in_features=64, out_features=32, bias=True)\n",
      "  (fc4): Linear(in_features=32, out_features=16, bias=True)\n",
      "  (fc5): Linear(in_features=16, out_features=1, bias=True)\n",
      "  (relu): ReLU()\n",
      "  (sigmoid): Sigmoid()\n",
      ")\n"
     ]
    }
   ],
   "source": [
    "import torch\n",
    "import torch.nn as nn\n",
    "\n",
    "class BinaryClassifier(nn.Module):\n",
    "     def __init__(self, input_size):\n",
    "        super(BinaryClassifier, self).__init__()\n",
    "        self.fc1 = nn.Linear(input_size, 128)  # 第一个全连接层\n",
    "        self.fc2 = nn.Linear(128, 64)           # 第二个全连接层\n",
    "        self.fc3 = nn.Linear(64, 32)\n",
    "        self.fc4 = nn.Linear(32, 16)\n",
    "        self.fc5 = nn.Linear(16, 1)# 输出层\n",
    "        self.relu = nn.ReLU()                   # ReLU 激活函数\n",
    "        self.sigmoid = nn.Sigmoid()             # Sigmoid 激活函数用于二分类\n",
    "\n",
    "     def forward(self, x):\n",
    "        x = self.relu(self.fc1(x))              # 第一层\n",
    "        x = self.relu(self.fc2(x))\n",
    "        x = self.relu(self.fc3(x))\n",
    "        x = self.relu(self.fc4(x))\n",
    "        x = self.sigmoid(self.fc5(x))           # 输出层\n",
    "        return x                                 # 返回概率值\n",
    "\n",
    "# 使用示例\n",
    "input_size = 1024  # 输入特征的维度\n",
    "model3 = BinaryClassifier(input_size)\n",
    "\n",
    "# 打印模型结构\n",
    "print(model3)"
   ]
  },
  {
   "cell_type": "code",
   "execution_count": 16,
   "id": "40c183b7-6e8b-4618-b978-73871e10bdff",
   "metadata": {
    "scrolled": true
   },
   "outputs": [
    {
     "name": "stdout",
     "output_type": "stream",
     "text": [
      "Epoch [1/30], Loss: 0.6917, Val Accuracy: 0.4797\n",
      "Epoch [2/30], Loss: 0.8604, Val Accuracy: 0.4472\n",
      "Epoch [3/30], Loss: 0.6885, Val Accuracy: 0.5203\n",
      "Epoch [4/30], Loss: 0.7055, Val Accuracy: 0.5203\n",
      "Epoch [5/30], Loss: 0.6942, Val Accuracy: 0.4878\n",
      "Epoch [6/30], Loss: 0.6916, Val Accuracy: 0.4797\n",
      "Epoch [7/30], Loss: 0.6937, Val Accuracy: 0.4959\n",
      "Epoch [8/30], Loss: 0.6900, Val Accuracy: 0.4878\n",
      "Epoch [9/30], Loss: 0.6914, Val Accuracy: 0.4959\n",
      "Epoch [10/30], Loss: 0.6893, Val Accuracy: 0.4797\n",
      "Epoch [11/30], Loss: 0.6875, Val Accuracy: 0.4878\n",
      "Epoch [12/30], Loss: 0.6876, Val Accuracy: 0.5041\n",
      "Epoch [13/30], Loss: 0.6855, Val Accuracy: 0.5203\n",
      "Epoch [14/30], Loss: 0.6863, Val Accuracy: 0.5122\n",
      "Epoch [15/30], Loss: 0.6838, Val Accuracy: 0.4634\n",
      "Epoch [16/30], Loss: 0.6839, Val Accuracy: 0.4878\n",
      "Epoch [17/30], Loss: 0.6817, Val Accuracy: 0.5122\n",
      "Epoch [18/30], Loss: 0.6823, Val Accuracy: 0.4959\n",
      "Epoch [19/30], Loss: 0.6798, Val Accuracy: 0.5122\n",
      "Epoch [20/30], Loss: 0.6799, Val Accuracy: 0.4959\n",
      "Epoch [21/30], Loss: 0.6775, Val Accuracy: 0.4959\n",
      "Epoch [22/30], Loss: 0.6762, Val Accuracy: 0.4715\n",
      "Epoch [23/30], Loss: 0.6760, Val Accuracy: 0.4959\n",
      "Epoch [24/30], Loss: 0.6735, Val Accuracy: 0.4959\n",
      "Epoch [25/30], Loss: 0.6717, Val Accuracy: 0.4797\n",
      "Epoch [26/30], Loss: 0.6713, Val Accuracy: 0.4959\n",
      "Epoch [27/30], Loss: 0.6694, Val Accuracy: 0.4878\n",
      "Epoch [28/30], Loss: 0.6667, Val Accuracy: 0.5041\n",
      "Epoch [29/30], Loss: 0.6653, Val Accuracy: 0.4878\n",
      "Epoch [30/30], Loss: 0.6646, Val Accuracy: 0.5691\n"
     ]
    }
   ],
   "source": [
    "import numpy as np\n",
    "import random\n",
    "criterion = nn.BCELoss()\n",
    "optimizer = optim.Adam(model3.parameters(), lr=0.001)\n",
    "num_epochs = 30\n",
    "acc=[]\n",
    "set_seed(42)\n",
    "for epoch in range(num_epochs):\n",
    "    model1.train()  # 设置为训练模式\n",
    "    optimizer.zero_grad()\n",
    "    \n",
    "    # 前向传播\n",
    "    outputs = model3(X_train)\n",
    "    loss = criterion(outputs, y_train.view(-1, 1).float())\n",
    "    \n",
    "    # 反向传播和优化\n",
    "    loss.backward()\n",
    "    optimizer.step()\n",
    "    model3.eval()  # 设置为评估模式\n",
    "    with torch.no_grad():  # 不计算梯度\n",
    "        val_outputs = model3(X_val)  # 在验证集上进行前向传播\n",
    "        val_predicted = (val_outputs >= 0.5).float()  # 将输出转换为0或1的预测\n",
    "        correct_predictions = (val_predicted.view(-1) == y_val).sum().item()  # 计算正确预测的数量\n",
    "        val_accuracy = correct_predictions / y_val.size(0)  # 计算验证集的准确率\n",
    "        acc.append(val_accuracy)\n",
    "    #if (epoch + 1) % 10 == 0:\n",
    "    print(f'Epoch [{epoch + 1}/{num_epochs}], Loss: {loss.item():.4f}, Val Accuracy: {val_accuracy:.4f}')"
   ]
  },
  {
   "cell_type": "code",
   "execution_count": 28,
   "id": "81409f31-afe8-4c5a-93cd-767b0cafb699",
   "metadata": {},
   "outputs": [
    {
     "name": "stdout",
     "output_type": "stream",
     "text": [
      "整个模型已保存到 entire_simple_model.pth\n"
     ]
    }
   ],
   "source": [
    "torch.save(model2, 'entire_simple_model2.pth')\n",
    "print(\"整个模型已保存到 entire_simple_model.pth\")"
   ]
  },
  {
   "cell_type": "code",
   "execution_count": 29,
   "id": "6f8ee06e-944b-405d-b6ae-e87b2b6f52fa",
   "metadata": {},
   "outputs": [
    {
     "name": "stdout",
     "output_type": "stream",
     "text": [
      "整个模型已保存到 entire_simple_model3.pth\n"
     ]
    }
   ],
   "source": [
    "torch.save(model3, 'entire_simple_model3.pth')\n",
    "print(\"整个模型已保存到 entire_simple_model3.pth\")"
   ]
  },
  {
   "cell_type": "code",
   "execution_count": 17,
   "id": "b73eac70-bbc9-4112-a64a-e5cb8cf7b95b",
   "metadata": {},
   "outputs": [
    {
     "data": {
      "image/png": "[encoded data removed]",
      "text/plain": [
       "<Figure size 1000x600 with 1 Axes>"
      ]
     },
     "metadata": {},
     "output_type": "display_data"
    }
   ],
   "source": [
    "import numpy as np\n",
    "import matplotlib.pyplot as plt\n",
    "plt.figure(figsize=(10, 6))\n",
    "plt.plot(range(30), acc, marker='o')\n",
    "plt.title('Val accracy over Epochs')\n",
    "plt.xlabel('Epoch')\n",
    "plt.ylabel('Accracy')\n",
    "plt.grid(True)\n",
    "plt.show()"
   ]
  },
  {
   "cell_type": "code",
   "execution_count": 18,
   "id": "f0e9abda-f94e-42c6-9af0-241f08301c10",
   "metadata": {},
   "outputs": [
    {
     "name": "stdout",
     "output_type": "stream",
     "text": [
      "Validation Accuracy: 56.10%\n",
      "Validation F1 Score: 0.5781\n"
     ]
    }
   ],
   "source": [
    "from sklearn.metrics import f1_score\n",
    "with torch.no_grad():\n",
    "    val_outputs = model(X_val)\n",
    "    val_predictions = (val_outputs >= 0.5).float()  # 预测类别\n",
    "    val_accuracy = (val_predictions.view(-1) == y_val).float().mean()  # 计算准确率\n",
    "    print(f'Validation Accuracy: {val_accuracy.item() * 100:.2f}%')\n",
    "    val_predictions_np = val_predictions.cpu().numpy().flatten()\n",
    "    y_val_np = y_val.cpu().numpy().flatten()\n",
    "    # 计算 F1 分数\n",
    "    val_f1 = f1_score(y_val_np, val_predictions_np)\n",
    "    print(f'Validation F1 Score: {val_f1:.4f}')"
   ]
  },
  {
   "cell_type": "code",
   "execution_count": 19,
   "id": "15b82b09-e398-4a96-af91-e4058049e295",
   "metadata": {},
   "outputs": [
    {
     "name": "stdout",
     "output_type": "stream",
     "text": [
      "Validation Accuracy: 59.31%\n",
      "Validation F1 Score: 0.5829\n"
     ]
    }
   ],
   "source": [
    "with torch.no_grad():\n",
    "    val_outputs = model(X_test)\n",
    "    val_predictions = (val_outputs >= 0.5).float()  # 预测类别\n",
    "    val_accuracy = (val_predictions.view(-1) == y_test).float().mean()  # 计算准确率\n",
    "    print(f'Validation Accuracy: {val_accuracy.item() * 100:.2f}%')\n",
    "    val_predictions_np = val_predictions.cpu().numpy().flatten()\n",
    "    y_test_np = y_test.cpu().numpy().flatten()\n",
    "    # 计算 F1 分数\n",
    "    val_f1 = f1_score(y_test_np, val_predictions_np)\n",
    "    print(f'Validation F1 Score: {val_f1:.4f}')"
   ]
  },
  {
   "cell_type": "code",
   "execution_count": 21,
   "id": "677c9463-d035-4dec-9ef2-b1a75e73ce76",
   "metadata": {},
   "outputs": [
    {
     "name": "stdout",
     "output_type": "stream",
     "text": [
      "Original features shape: torch.Size([204, 1024])\n",
      "Noisy features shape: torch.Size([204])\n"
     ]
    }
   ],
   "source": [
    "import torch\n",
    "\n",
    "def add_gaussian_noise_pytorch(features, mean=0, std=0.1):\n",
    "    \"\"\"\n",
    "    给 PyTorch 张量形式的特征添加高斯噪声\n",
    "    :param features: 处理好的特征张量\n",
    "    :param mean: 高斯噪声的均值\n",
    "    :param std: 高斯噪声的标准差\n",
    "    :return: 添加噪声后的特征张量\n",
    "    \"\"\"\n",
    "    # 生成与特征张量形状相同的高斯噪声\n",
    "    noise = torch.randn(features.size()) * std + mean\n",
    "    # 将噪声添加到特征上\n",
    "    noisy_features = features + noise\n",
    "    return noisy_features\n",
    "# 添加高斯噪声\n",
    "X_test_noise = add_gaussian_noise_pytorch(X_test, mean=0, std=0.1)\n",
    "y_test_noise=y_test+y_test\n",
    "print(\"Original features shape:\", X_test_noise.shape)\n",
    "print(\"Noisy features shape:\", y_test_noise.shape)"
   ]
  },
  {
   "cell_type": "code",
   "execution_count": 22,
   "id": "8d0a03fc-eb05-4035-b5d9-ad16b34c08e1",
   "metadata": {},
   "outputs": [
    {
     "name": "stdout",
     "output_type": "stream",
     "text": [
      "Validation Accuracy: 30.88%\n",
      "Validation F1 Score: 0.5829\n"
     ]
    }
   ],
   "source": [
    "from sklearn.metrics import f1_score\n",
    "model.eval()  # 设置为评估模式\n",
    "with torch.no_grad():\n",
    "    val_outputs = model(X_test_noise)\n",
    "    val_predictions = (val_outputs >= 0.5).float()  # 预测类别\n",
    "    val_accuracy = (val_predictions.view(-1) == y_test_noise).float().mean()  # 计算准确率\n",
    "    print(f'Validation Accuracy: {val_accuracy.item() * 100:.2f}%')\n",
    "    val_predictions_np = val_predictions.cpu().numpy().flatten()\n",
    "    y_test_np = y_test.cpu().numpy().flatten()\n",
    "    # 计算 F1 分数\n",
    "    val_f1 = f1_score(y_test_np, val_predictions_np)\n",
    "    print(f'Validation F1 Score: {val_f1:.4f}')"
   ]
  },
  {
   "cell_type": "code",
   "execution_count": 23,
   "id": "ad13fdfc-a2f5-494d-86d7-2ec8c2b2807f",
   "metadata": {},
   "outputs": [],
   "source": [
    "X_val_noise = add_gaussian_noise_pytorch(X_val, mean=0, std=0.1)\n",
    "y_val_noise=y_val+y_val"
   ]
  },
  {
   "cell_type": "code",
   "execution_count": 24,
   "id": "55011dcc-2814-4a10-a7f9-12c0320f520e",
   "metadata": {},
   "outputs": [
    {
     "name": "stdout",
     "output_type": "stream",
     "text": [
      "Validation Accuracy: 26.02%\n",
      "Validation F1 Score: 0.5781\n"
     ]
    }
   ],
   "source": [
    "from sklearn.metrics import f1_score\n",
    "model.eval()  # 设置为评估模式\n",
    "with torch.no_grad():\n",
    "    val_outputs = model(X_val_noise)\n",
    "    val_predictions = (val_outputs >= 0.5).float()  # 预测类别\n",
    "    val_accuracy = (val_predictions.view(-1) == y_val_noise).float().mean()  # 计算准确率\n",
    "    print(f'Validation Accuracy: {val_accuracy.item() * 100:.2f}%')\n",
    "    val_predictions_np = val_predictions.cpu().numpy().flatten()\n",
    "    y_val_np = y_val.cpu().numpy().flatten()\n",
    "    # 计算 F1 分数\n",
    "    val_f1 = f1_score(y_val_np, val_predictions_np)\n",
    "    print(f'Validation F1 Score: {val_f1:.4f}')"
   ]
  },
  {
   "cell_type": "code",
   "execution_count": 25,
   "id": "41c8bd65-524b-4805-8e29-1bd4cfc8a0c7",
   "metadata": {},
   "outputs": [
    {
     "name": "stdout",
     "output_type": "stream",
     "text": [
      "Original features shape: torch.Size([204, 1024])\n",
      "Noisy features shape: torch.Size([204, 1024])\n"
     ]
    }
   ],
   "source": [
    "import torch\n",
    "import numpy as np\n",
    "\n",
    "def add_salt_and_pepper_noise(features, salt_prob=0.01, pepper_prob=0.01):\n",
    "    \"\"\"\n",
    "    给 PyTorch 张量形式的特征添加椒盐噪声\n",
    "    :param features: 处理好的特征张量\n",
    "    :param salt_prob: 添加盐噪声的概率\n",
    "    :param pepper_prob: 添加胡椒噪声的概率\n",
    "    :return: 添加噪声后的特征张量\n",
    "    \"\"\"\n",
    "    # 创建一个与特征相同形状的噪声张量\n",
    "    noisy_features = features.clone()\n",
    "    \n",
    "    # 生成随机数\n",
    "    random_values = torch.rand(features.size())\n",
    "    \n",
    "    # 添加盐噪声（随机选择一些像素点设置为最大值）\n",
    "    noisy_features[random_values < salt_prob] = 1.0  # 1.0 表示盐噪声\n",
    "    \n",
    "    # 添加胡椒噪声（随机选择一些像素点设置为最小值）\n",
    "    noisy_features[random_values > (1 - pepper_prob)] = 0.0  # 0.0 表示胡椒噪声\n",
    "    \n",
    "    return noisy_features\n",
    "\n",
    "# 添加椒盐噪声\n",
    "X_test_noise = add_salt_and_pepper_noise(X_test, salt_prob=0.01, pepper_prob=0.01)\n",
    "y_test_noise = y_test + y_test  # 根据需要进行修改\n",
    "print(\"Original features shape:\", X_test.shape)\n",
    "print(\"Noisy features shape:\", X_test_noise.shape)"
   ]
  },
  {
   "cell_type": "code",
   "execution_count": 26,
   "id": "0af84d6e-fb4b-404b-84cc-294df726d8dc",
   "metadata": {},
   "outputs": [
    {
     "name": "stdout",
     "output_type": "stream",
     "text": [
      "Validation Accuracy: 29.90%\n",
      "Validation F1 Score: 0.5911\n"
     ]
    }
   ],
   "source": [
    "from sklearn.metrics import f1_score\n",
    "model.eval()  # 设置为评估模式\n",
    "with torch.no_grad():\n",
    "    val_outputs = model(X_test_noise)\n",
    "    val_predictions = (val_outputs >= 0.5).float()  # 预测类别\n",
    "    val_accuracy = (val_predictions.view(-1) == y_test_noise).float().mean()  # 计算准确率\n",
    "    print(f'Validation Accuracy: {val_accuracy.item() * 100:.2f}%')\n",
    "    val_predictions_np = val_predictions.cpu().numpy().flatten()\n",
    "    y_test_np = y_test.cpu().numpy().flatten()\n",
    "    # 计算 F1 分数\n",
    "    val_f1 = f1_score(y_test_np, val_predictions_np)\n",
    "    print(f'Validation F1 Score: {val_f1:.4f}')"
   ]
  },
  {
   "cell_type": "code",
   "execution_count": 27,
   "id": "3bb63bc4-a7d2-4a91-9a7e-39a2e07cf1ec",
   "metadata": {},
   "outputs": [
    {
     "name": "stdout",
     "output_type": "stream",
     "text": [
      "Validation Accuracy: 28.46%\n",
      "Validation F1 Score: 0.6250\n"
     ]
    }
   ],
   "source": [
    "X_val_noise = add_salt_and_pepper_noise(X_val, salt_prob=0.01, pepper_prob=0.01)\n",
    "y_val_noise=y_val+y_val\n",
    "from sklearn.metrics import f1_score\n",
    "model.eval()  # 设置为评估模式\n",
    "with torch.no_grad():\n",
    "    val_outputs = model(X_val_noise)\n",
    "    val_predictions = (val_outputs >= 0.5).float()  # 预测类别\n",
    "    val_accuracy = (val_predictions.view(-1) == y_val_noise).float().mean()  # 计算准确率\n",
    "    print(f'Validation Accuracy: {val_accuracy.item() * 100:.2f}%')\n",
    "    val_predictions_np = val_predictions.cpu().numpy().flatten()\n",
    "    y_val_np = y_val.cpu().numpy().flatten()\n",
    "    # 计算 F1 分数\n",
    "    val_f1 = f1_score(y_val_np, val_predictions_np)\n",
    "    print(f'Validation F1 Score: {val_f1:.4f}')"
   ]
  },
  {
   "cell_type": "code",
   "execution_count": 28,
   "id": "994da260-6b60-47e1-94b7-d6a07d0d8da5",
   "metadata": {},
   "outputs": [],
   "source": [
    "import torch.nn as nn\n",
    "\n",
    "class FeatureMapper(nn.Module):\n",
    "    def __init__(self, input_dim, output_dim):\n",
    "        super(FeatureMapper, self).__init__()\n",
    "        self.fc = nn.Linear(input_dim, output_dim)\n",
    "\n",
    "    def forward(self, x):\n",
    "        return self.fc(x)"
   ]
  },
  {
   "cell_type": "code",
   "execution_count": 29,
   "id": "1f3253f0-c2bc-43a3-aa1a-119cb30574cb",
   "metadata": {},
   "outputs": [],
   "source": [
    "def attention(query, key, value):\n",
    "        scores = torch.matmul(query, key.transpose(-2, -1))  # 点积\n",
    "        weights = nn.functional.softmax(scores, dim=-1)  # softmax\n",
    "        return torch.matmul(weights, value)  # 加权求和"
   ]
  },
  {
   "cell_type": "code",
   "execution_count": 30,
   "id": "ab754134-b560-479d-8833-aabae6a6b1c3",
   "metadata": {},
   "outputs": [],
   "source": [
    "def fusion(original, attended):\n",
    "        return original + attended  # 或者使用 torch.cat 进行连接"
   ]
  },
  {
   "cell_type": "code",
   "execution_count": 31,
   "id": "fa67d0a7-d2c6-4b3e-803f-aed777581da5",
   "metadata": {},
   "outputs": [
    {
     "data": {
      "text/plain": [
       "torch.Size([815, 56832])"
      ]
     },
     "execution_count": 31,
     "metadata": {},
     "output_type": "execute_result"
    }
   ],
   "source": [
    "x1.shape"
   ]
  },
  {
   "cell_type": "code",
   "execution_count": 32,
   "id": "9cf2bae6-119a-437a-a4c5-a88254bb7111",
   "metadata": {},
   "outputs": [],
   "source": [
    "image_mapper = FeatureMapper(75648, 512)\n",
    "text_mapper = FeatureMapper(56832, 512)\n",
    "\n",
    "mapped_image = image_mapper(x)\n",
    "mapped_text = text_mapper(x1)\n",
    "\n",
    "# 计算注意力\n",
    "attended_image = attention(mapped_text, mapped_image, mapped_image)\n",
    "attended_text = attention(mapped_image, mapped_text, mapped_text)\n",
    "\n",
    "# 特征融合\n",
    "fused_image = fusion(mapped_image, attended_image)\n",
    "fused_text = fusion(mapped_text, attended_text)"
   ]
  },
  {
   "cell_type": "code",
   "execution_count": 33,
   "id": "86a67181-edef-4854-a313-6563fb740b73",
   "metadata": {},
   "outputs": [],
   "source": [
    "x_fuse=torch.cat((fused_image, fused_text), dim=1)\n",
    "x_fuse = x_fuse.detach().numpy()\n",
    "from sklearn.model_selection import train_test_split\n",
    "X_train_val, X_test, y_train_val, y_test = train_test_split(x_fuse, labels, test_size=0.25, random_state=42)\n",
    "X_train, X_val, y_train, y_val = train_test_split(X_train_val, y_train_val, test_size=0.2, random_state=42)\n",
    "X_train = torch.tensor(X_train, dtype=torch.float32)\n",
    "X_test = torch.tensor(X_test, dtype=torch.float32)\n",
    "y_train = torch.tensor(y_train, dtype=torch.float32)\n",
    "y_test = torch.tensor(y_test, dtype=torch.float32)\n",
    "X_val = torch.tensor(X_val, dtype=torch.float32)\n",
    "y_val = torch.tensor(y_val, dtype=torch.float32)"
   ]
  },
  {
   "cell_type": "code",
   "execution_count": 34,
   "id": "2cb9e44f-eaa5-468a-83ab-d4f37dcbff07",
   "metadata": {},
   "outputs": [
    {
     "name": "stdout",
     "output_type": "stream",
     "text": [
      "BinaryClassifier(\n",
      "  (fc1): Linear(in_features=1024, out_features=128, bias=True)\n",
      "  (fc2): Linear(in_features=128, out_features=64, bias=True)\n",
      "  (fc3): Linear(in_features=64, out_features=32, bias=True)\n",
      "  (fc4): Linear(in_features=32, out_features=16, bias=True)\n",
      "  (fc5): Linear(in_features=16, out_features=1, bias=True)\n",
      "  (relu): ReLU()\n",
      "  (sigmoid): Sigmoid()\n",
      ")\n"
     ]
    }
   ],
   "source": [
    "import torch\n",
    "import torch.nn as nn\n",
    "\n",
    "class BinaryClassifier(nn.Module):\n",
    "     def __init__(self, input_size):\n",
    "        super(BinaryClassifier, self).__init__()\n",
    "        self.fc1 = nn.Linear(input_size, 128)  # 第一个全连接层\n",
    "        self.fc2 = nn.Linear(128, 64)           # 第二个全连接层\n",
    "        self.fc3 = nn.Linear(64, 32)\n",
    "        self.fc4 = nn.Linear(32, 16)\n",
    "        self.fc5 = nn.Linear(16, 1)# 输出层\n",
    "        self.relu = nn.ReLU()                   # ReLU 激活函数\n",
    "        self.sigmoid = nn.Sigmoid()             # Sigmoid 激活函数用于二分类\n",
    "\n",
    "     def forward(self, x):\n",
    "        x = self.relu(self.fc1(x))              # 第一层\n",
    "        x = self.relu(self.fc2(x))\n",
    "        x = self.relu(self.fc3(x))\n",
    "        x = self.relu(self.fc4(x))\n",
    "        x = self.sigmoid(self.fc5(x))           # 输出层\n",
    "        return x                                 # 返回概率值\n",
    "\n",
    "# 使用示例\n",
    "input_size = 1024  # 输入特征的维度\n",
    "model = BinaryClassifier(input_size)\n",
    "\n",
    "# 打印模型结构\n",
    "print(model)"
   ]
  },
  {
   "cell_type": "code",
   "execution_count": 35,
   "id": "62a21420-a67b-414e-ab82-407a87dfbb2c",
   "metadata": {},
   "outputs": [
    {
     "name": "stdout",
     "output_type": "stream",
     "text": [
      "Epoch [1/30], Loss: 0.6932, Val Accuracy: 0.4878\n",
      "Epoch [2/30], Loss: 0.6913, Val Accuracy: 0.5285\n",
      "Epoch [3/30], Loss: 0.6893, Val Accuracy: 0.5285\n",
      "Epoch [4/30], Loss: 0.6867, Val Accuracy: 0.5203\n",
      "Epoch [5/30], Loss: 0.6836, Val Accuracy: 0.5528\n",
      "Epoch [6/30], Loss: 0.6797, Val Accuracy: 0.5610\n",
      "Epoch [7/30], Loss: 0.6752, Val Accuracy: 0.5528\n",
      "Epoch [8/30], Loss: 0.6698, Val Accuracy: 0.5610\n",
      "Epoch [9/30], Loss: 0.6635, Val Accuracy: 0.5366\n",
      "Epoch [10/30], Loss: 0.6556, Val Accuracy: 0.5285\n",
      "Epoch [11/30], Loss: 0.6466, Val Accuracy: 0.5203\n",
      "Epoch [12/30], Loss: 0.6368, Val Accuracy: 0.5122\n",
      "Epoch [13/30], Loss: 0.6255, Val Accuracy: 0.5041\n",
      "Epoch [14/30], Loss: 0.6125, Val Accuracy: 0.5285\n",
      "Epoch [15/30], Loss: 0.5973, Val Accuracy: 0.5203\n",
      "Epoch [16/30], Loss: 0.5796, Val Accuracy: 0.5203\n",
      "Epoch [17/30], Loss: 0.5600, Val Accuracy: 0.4878\n",
      "Epoch [18/30], Loss: 0.5403, Val Accuracy: 0.5122\n",
      "Epoch [19/30], Loss: 0.5209, Val Accuracy: 0.5041\n",
      "Epoch [20/30], Loss: 0.4997, Val Accuracy: 0.5041\n",
      "Epoch [21/30], Loss: 0.4755, Val Accuracy: 0.5366\n",
      "Epoch [22/30], Loss: 0.4554, Val Accuracy: 0.5041\n",
      "Epoch [23/30], Loss: 0.4348, Val Accuracy: 0.4878\n",
      "Epoch [24/30], Loss: 0.4067, Val Accuracy: 0.5122\n",
      "Epoch [25/30], Loss: 0.3858, Val Accuracy: 0.5203\n",
      "Epoch [26/30], Loss: 0.3675, Val Accuracy: 0.4878\n",
      "Epoch [27/30], Loss: 0.3375, Val Accuracy: 0.4797\n",
      "Epoch [28/30], Loss: 0.3155, Val Accuracy: 0.5285\n",
      "Epoch [29/30], Loss: 0.2990, Val Accuracy: 0.4959\n",
      "Epoch [30/30], Loss: 0.2716, Val Accuracy: 0.4878\n"
     ]
    }
   ],
   "source": [
    "import numpy as np\n",
    "import random\n",
    "criterion = nn.BCELoss()\n",
    "optimizer = optim.Adam(model.parameters(), lr=0.001)\n",
    "num_epochs = 30\n",
    "acc1=[]\n",
    "for epoch in range(num_epochs):\n",
    "    model.train()  # 设置为训练模式\n",
    "    optimizer.zero_grad()\n",
    "    \n",
    "    # 前向传播\n",
    "    outputs = model(X_train)\n",
    "    loss = criterion(outputs, y_train.view(-1, 1).float())\n",
    "    \n",
    "    # 反向传播和优化\n",
    "    loss.backward()\n",
    "    optimizer.step()\n",
    "    model.eval()  # 设置为评估模式\n",
    "    with torch.no_grad():  # 不计算梯度\n",
    "        val_outputs = model(X_val)  # 在验证集上进行前向传播\n",
    "        val_predicted = (val_outputs >= 0.5).float()  # 将输出转换为0或1的预测\n",
    "        correct_predictions = (val_predicted.view(-1) == y_val).sum().item()  # 计算正确预测的数量\n",
    "        val_accuracy = correct_predictions / y_val.size(0)  # 计算验证集的准确率\n",
    "        acc1.append(val_accuracy)\n",
    "    #if (epoch + 1) % 10 == 0:\n",
    "    print(f'Epoch [{epoch + 1}/{num_epochs}], Loss: {loss.item():.4f}, Val Accuracy: {val_accuracy:.4f}')"
   ]
  },
  {
   "cell_type": "code",
   "execution_count": 36,
   "id": "86e3d321-487c-4b1a-b22a-8afeeac29124",
   "metadata": {},
   "outputs": [
    {
     "name": "stdout",
     "output_type": "stream",
     "text": [
      "Validation Accuracy: 48.78%\n",
      "Validation F1 Score: 0.5116\n"
     ]
    }
   ],
   "source": [
    "from sklearn.metrics import f1_score\n",
    "with torch.no_grad():\n",
    "    val_outputs = model(X_val)\n",
    "    val_predictions = (val_outputs >= 0.5).float()  # 预测类别\n",
    "    val_accuracy = (val_predictions.view(-1) == y_val).float().mean()  # 计算准确率\n",
    "    print(f'Validation Accuracy: {val_accuracy.item() * 100:.2f}%')\n",
    "    val_predictions_np = val_predictions.cpu().numpy().flatten()\n",
    "    y_val_np = y_val.cpu().numpy().flatten()\n",
    "    # 计算 F1 分数\n",
    "    val_f1 = f1_score(y_val_np, val_predictions_np)\n",
    "    print(f'Validation F1 Score: {val_f1:.4f}')"
   ]
  },
  {
   "cell_type": "code",
   "execution_count": 37,
   "id": "c9f1d842-444b-4df4-80bc-32b084226961",
   "metadata": {},
   "outputs": [
    {
     "name": "stdout",
     "output_type": "stream",
     "text": [
      "Validation Accuracy: 52.94%\n",
      "Validation F1 Score: 0.4894\n"
     ]
    }
   ],
   "source": [
    "with torch.no_grad():\n",
    "    val_outputs = model(X_test)\n",
    "    val_predictions = (val_outputs >= 0.5).float()  # 预测类别\n",
    "    val_accuracy = (val_predictions.view(-1) == y_test).float().mean()  # 计算准确率\n",
    "    print(f'Validation Accuracy: {val_accuracy.item() * 100:.2f}%')\n",
    "    val_predictions_np = val_predictions.cpu().numpy().flatten()\n",
    "    y_test_np = y_test.cpu().numpy().flatten()\n",
    "    # 计算 F1 分数\n",
    "    val_f1 = f1_score(y_test_np, val_predictions_np)\n",
    "    print(f'Validation F1 Score: {val_f1:.4f}')"
   ]
  },
  {
   "cell_type": "code",
   "execution_count": 72,
   "id": "f35e1e8a-cb02-4239-8e3a-ec062abd1733",
   "metadata": {},
   "outputs": [
    {
     "data": {
      "text/plain": [
       "60"
      ]
     },
     "execution_count": 72,
     "metadata": {},
     "output_type": "execute_result"
    }
   ],
   "source": [
    "len(acc)"
   ]
  },
  {
   "cell_type": "code",
   "execution_count": 38,
   "id": "af6be14d-3675-49e0-95c3-b3bea4aee7cb",
   "metadata": {
    "scrolled": true
   },
   "outputs": [],
   "source": [
    "import torch\n",
    "import torch.nn as nn\n",
    "\n",
    "class FeatureFusion(nn.Module):\n",
    "    def __init__(self, input_dim_u1, input_dim_u2):\n",
    "        super(FeatureFusion, self).__init__()\n",
    "        # 定义线性层以调整特征维度\n",
    "        self.linear_u1 = nn.Linear(input_dim_u1, 512)\n",
    "        self.linear_u2 = nn.Linear(input_dim_u2, 512)\n",
    "\n",
    "    def forward(self, u1, u2):\n",
    "        # 调整特征维度\n",
    "        u1_transformed = self.linear_u1(u1)\n",
    "        u2_transformed = self.linear_u2(u2)\n",
    "\n",
    "        # 计算外积\n",
    "        # 相加\n",
    "        z = u1_transformed + u2_transformed\n",
    "        return z\n",
    "\n",
    "# 示例输入\n",
    "feature_dim_u1 = 75648  # 模态1特征维度\n",
    "feature_dim_u2 = 56832  # 模态2特征维度\n",
    "feature_fusion = FeatureFusion(feature_dim_u1, feature_dim_u2)\n",
    "\n",
    "# 计算融合特征\n",
    "z = feature_fusion(x, x1)"
   ]
  },
  {
   "cell_type": "code",
   "execution_count": 39,
   "id": "7ac22abd-b0b5-4db1-88b9-2106cc5c5cdb",
   "metadata": {},
   "outputs": [
    {
     "name": "stdout",
     "output_type": "stream",
     "text": [
      "BinaryClassifier(\n",
      "  (fc1): Linear(in_features=512, out_features=128, bias=True)\n",
      "  (fc2): Linear(in_features=128, out_features=64, bias=True)\n",
      "  (fc3): Linear(in_features=64, out_features=32, bias=True)\n",
      "  (fc4): Linear(in_features=32, out_features=16, bias=True)\n",
      "  (fc5): Linear(in_features=16, out_features=1, bias=True)\n",
      "  (relu): ReLU()\n",
      "  (sigmoid): Sigmoid()\n",
      ")\n"
     ]
    }
   ],
   "source": [
    "import torch\n",
    "import torch.nn as nn\n",
    "\n",
    "class BinaryClassifier(nn.Module):\n",
    "     def __init__(self, input_size):\n",
    "        super(BinaryClassifier, self).__init__()\n",
    "        self.fc1 = nn.Linear(input_size, 128)  # 第一个全连接层\n",
    "        self.fc2 = nn.Linear(128, 64)           # 第二个全连接层\n",
    "        self.fc3 = nn.Linear(64, 32)\n",
    "        self.fc4 = nn.Linear(32, 16)\n",
    "        self.fc5 = nn.Linear(16, 1)# 输出层\n",
    "        self.relu = nn.ReLU()                   # ReLU 激活函数\n",
    "        self.sigmoid = nn.Sigmoid()             # Sigmoid 激活函数用于二分类\n",
    "\n",
    "     def forward(self, x):\n",
    "        x = self.relu(self.fc1(x))              # 第一层\n",
    "        x = self.relu(self.fc2(x))\n",
    "        x = self.relu(self.fc3(x))\n",
    "        x = self.relu(self.fc4(x))\n",
    "        x = self.sigmoid(self.fc5(x))           # 输出层\n",
    "        return x                                 # 返回概率值\n",
    "\n",
    "# 使用示例\n",
    "input_size = 512  # 输入特征的维度\n",
    "model = BinaryClassifier(input_size)\n",
    "\n",
    "# 打印模型结构\n",
    "print(model)"
   ]
  },
  {
   "cell_type": "code",
   "execution_count": 40,
   "id": "3cc0bc4f-06c7-47d0-a011-dcff287062e3",
   "metadata": {},
   "outputs": [],
   "source": [
    "z = z.detach().numpy()\n",
    "from sklearn.model_selection import train_test_split\n",
    "X_train_val, X_test, y_train_val, y_test = train_test_split(z, labels, test_size=0.25, random_state=42)\n",
    "X_train, X_val, y_train, y_val = train_test_split(X_train_val, y_train_val, test_size=0.2, random_state=42)\n",
    "X_train = torch.tensor(X_train, dtype=torch.float32)\n",
    "X_test = torch.tensor(X_test, dtype=torch.float32)\n",
    "y_train = torch.tensor(y_train, dtype=torch.float32)\n",
    "y_test = torch.tensor(y_test, dtype=torch.float32)\n",
    "X_val = torch.tensor(X_val, dtype=torch.float32)\n",
    "y_val = torch.tensor(y_val, dtype=torch.float32)"
   ]
  },
  {
   "cell_type": "code",
   "execution_count": 41,
   "id": "4b5f64f2-d003-4bd7-9dd9-80289b90b585",
   "metadata": {},
   "outputs": [
    {
     "name": "stdout",
     "output_type": "stream",
     "text": [
      "Epoch [1/30], Loss: 0.6945, Val Accuracy: 0.4797\n",
      "Epoch [2/30], Loss: 0.6929, Val Accuracy: 0.4797\n",
      "Epoch [3/30], Loss: 0.6910, Val Accuracy: 0.4797\n",
      "Epoch [4/30], Loss: 0.6884, Val Accuracy: 0.4797\n",
      "Epoch [5/30], Loss: 0.6854, Val Accuracy: 0.4797\n",
      "Epoch [6/30], Loss: 0.6818, Val Accuracy: 0.4797\n",
      "Epoch [7/30], Loss: 0.6774, Val Accuracy: 0.4715\n",
      "Epoch [8/30], Loss: 0.6721, Val Accuracy: 0.5041\n",
      "Epoch [9/30], Loss: 0.6657, Val Accuracy: 0.5366\n",
      "Epoch [10/30], Loss: 0.6582, Val Accuracy: 0.5610\n",
      "Epoch [11/30], Loss: 0.6495, Val Accuracy: 0.5610\n",
      "Epoch [12/30], Loss: 0.6396, Val Accuracy: 0.5366\n",
      "Epoch [13/30], Loss: 0.6282, Val Accuracy: 0.5041\n",
      "Epoch [14/30], Loss: 0.6153, Val Accuracy: 0.4797\n",
      "Epoch [15/30], Loss: 0.6003, Val Accuracy: 0.4634\n",
      "Epoch [16/30], Loss: 0.5830, Val Accuracy: 0.4472\n",
      "Epoch [17/30], Loss: 0.5633, Val Accuracy: 0.4472\n",
      "Epoch [18/30], Loss: 0.5408, Val Accuracy: 0.4309\n",
      "Epoch [19/30], Loss: 0.5157, Val Accuracy: 0.4472\n",
      "Epoch [20/30], Loss: 0.4882, Val Accuracy: 0.4472\n",
      "Epoch [21/30], Loss: 0.4585, Val Accuracy: 0.4228\n",
      "Epoch [22/30], Loss: 0.4268, Val Accuracy: 0.4228\n",
      "Epoch [23/30], Loss: 0.3938, Val Accuracy: 0.3984\n",
      "Epoch [24/30], Loss: 0.3606, Val Accuracy: 0.4065\n",
      "Epoch [25/30], Loss: 0.3273, Val Accuracy: 0.4065\n",
      "Epoch [26/30], Loss: 0.2940, Val Accuracy: 0.4228\n",
      "Epoch [27/30], Loss: 0.2612, Val Accuracy: 0.4228\n",
      "Epoch [28/30], Loss: 0.2299, Val Accuracy: 0.4390\n",
      "Epoch [29/30], Loss: 0.2012, Val Accuracy: 0.4228\n",
      "Epoch [30/30], Loss: 0.1769, Val Accuracy: 0.4228\n"
     ]
    }
   ],
   "source": [
    "import numpy as np\n",
    "import random\n",
    "criterion = nn.BCELoss()\n",
    "optimizer = optim.Adam(model.parameters(), lr=0.001)\n",
    "num_epochs = 30\n",
    "acc2=[]\n",
    "for epoch in range(num_epochs):\n",
    "    model.train()  # 设置为训练模式\n",
    "    optimizer.zero_grad()\n",
    "    \n",
    "    # 前向传播\n",
    "    outputs = model(X_train)\n",
    "    loss = criterion(outputs, y_train.view(-1, 1).float())\n",
    "    \n",
    "    # 反向传播和优化\n",
    "    loss.backward()\n",
    "    optimizer.step()\n",
    "    model.eval()  # 设置为评估模式\n",
    "    with torch.no_grad():  # 不计算梯度\n",
    "        val_outputs = model(X_val)  # 在验证集上进行前向传播\n",
    "        val_predicted = (val_outputs >= 0.5).float()  # 将输出转换为0或1的预测\n",
    "        correct_predictions = (val_predicted.view(-1) == y_val).sum().item()  # 计算正确预测的数量\n",
    "        val_accuracy = correct_predictions / y_val.size(0)  # 计算验证集的准确率\n",
    "        acc2.append(val_accuracy)\n",
    "    #if (epoch + 1) % 10 == 0:\n",
    "    print(f'Epoch [{epoch + 1}/{num_epochs}], Loss: {loss.item():.4f}, Val Accuracy: {val_accuracy:.4f}')"
   ]
  },
  {
   "cell_type": "code",
   "execution_count": 42,
   "id": "f2873e7a-4c5b-42c7-bd75-79bd3d628f49",
   "metadata": {},
   "outputs": [
    {
     "name": "stdout",
     "output_type": "stream",
     "text": [
      "Validation Accuracy: 42.28%\n",
      "Validation F1 Score: 0.4228\n"
     ]
    }
   ],
   "source": [
    "from sklearn.metrics import f1_score\n",
    "with torch.no_grad():\n",
    "    val_outputs = model(X_val)\n",
    "    val_predictions = (val_outputs >= 0.5).float()  # 预测类别\n",
    "    val_accuracy = (val_predictions.view(-1) == y_val).float().mean()  # 计算准确率\n",
    "    print(f'Validation Accuracy: {val_accuracy.item() * 100:.2f}%')\n",
    "    val_predictions_np = val_predictions.cpu().numpy().flatten()\n",
    "    y_val_np = y_val.cpu().numpy().flatten()\n",
    "    # 计算 F1 分数\n",
    "    val_f1 = f1_score(y_val_np, val_predictions_np)\n",
    "    print(f'Validation F1 Score: {val_f1:.4f}')"
   ]
  },
  {
   "cell_type": "code",
   "execution_count": 43,
   "id": "4e40e072-3c01-4f08-9c2d-2ae1cd465139",
   "metadata": {},
   "outputs": [
    {
     "name": "stdout",
     "output_type": "stream",
     "text": [
      "Validation Accuracy: 54.90%\n",
      "Validation F1 Score: 0.5000\n"
     ]
    }
   ],
   "source": [
    "with torch.no_grad():\n",
    "    val_outputs = model(X_test)\n",
    "    val_predictions = (val_outputs >= 0.5).float()  # 预测类别\n",
    "    val_accuracy = (val_predictions.view(-1) == y_test).float().mean()  # 计算准确率\n",
    "    print(f'Validation Accuracy: {val_accuracy.item() * 100:.2f}%')\n",
    "    val_predictions_np = val_predictions.cpu().numpy().flatten()\n",
    "    y_test_np = y_test.cpu().numpy().flatten()\n",
    "    # 计算 F1 分数\n",
    "    val_f1 = f1_score(y_test_np, val_predictions_np)\n",
    "    print(f'Validation F1 Score: {val_f1:.4f}')"
   ]
  },
  {
   "cell_type": "code",
   "execution_count": 44,
   "id": "b2635795-5f69-4da8-90eb-2d03303661a7",
   "metadata": {},
   "outputs": [],
   "source": [
    "import torch\n",
    "import torch.nn as nn\n",
    "\n",
    "class FeatureFusion(nn.Module):\n",
    "    def __init__(self, input_dim_u1, input_dim_u2):\n",
    "        super(FeatureFusion, self).__init__()\n",
    "        # 定义线性层以调整特征维度\n",
    "        self.linear_u1 = nn.Linear(input_dim_u1, 512)\n",
    "        self.linear_u2 = nn.Linear(input_dim_u2, 512)\n",
    "\n",
    "    def forward(self, u1, u2):\n",
    "        # 调整特征维度\n",
    "        u1_transformed = self.linear_u1(u1)\n",
    "        u2_transformed = self.linear_u2(u2)\n",
    "\n",
    "        # 计算外积\n",
    "        z = self.outer_product(u1_transformed, u2_transformed)\n",
    "        return z\n",
    "\n",
    "    def outer_product(self, x, y):\n",
    "        return torch.einsum('ik,jk->ij', x, y)\n",
    "\n",
    "# 示例输入\n",
    "feature_dim_u1 = 75648  # 模态1特征维度\n",
    "feature_dim_u2 = 56832  # 模态2特征维度\n",
    "feature_fusion = FeatureFusion(feature_dim_u1, feature_dim_u2)\n",
    "\n",
    "# 计算融合特征\n",
    "z = feature_fusion(x, x1)"
   ]
  },
  {
   "cell_type": "code",
   "execution_count": 45,
   "id": "57ef9f3f-b253-424e-9e0a-1fa1e562a59c",
   "metadata": {},
   "outputs": [
    {
     "name": "stdout",
     "output_type": "stream",
     "text": [
      "BinaryClassifier(\n",
      "  (fc1): Linear(in_features=815, out_features=128, bias=True)\n",
      "  (fc2): Linear(in_features=128, out_features=64, bias=True)\n",
      "  (fc3): Linear(in_features=64, out_features=32, bias=True)\n",
      "  (fc4): Linear(in_features=32, out_features=16, bias=True)\n",
      "  (fc5): Linear(in_features=16, out_features=1, bias=True)\n",
      "  (relu): ReLU()\n",
      "  (sigmoid): Sigmoid()\n",
      ")\n"
     ]
    }
   ],
   "source": [
    "import torch\n",
    "import torch.nn as nn\n",
    "\n",
    "class BinaryClassifier(nn.Module):\n",
    "     def __init__(self, input_size):\n",
    "        super(BinaryClassifier, self).__init__()\n",
    "        self.fc1 = nn.Linear(input_size, 128)  # 第一个全连接层\n",
    "        self.fc2 = nn.Linear(128, 64)           # 第二个全连接层\n",
    "        self.fc3 = nn.Linear(64, 32)\n",
    "        self.fc4 = nn.Linear(32, 16)\n",
    "        self.fc5 = nn.Linear(16, 1)# 输出层\n",
    "        self.relu = nn.ReLU()                   # ReLU 激活函数\n",
    "        self.sigmoid = nn.Sigmoid()             # Sigmoid 激活函数用于二分类\n",
    "\n",
    "     def forward(self, x):\n",
    "        x = self.relu(self.fc1(x))              # 第一层\n",
    "        x = self.relu(self.fc2(x))\n",
    "        x = self.relu(self.fc3(x))\n",
    "        x = self.relu(self.fc4(x))\n",
    "        x = self.sigmoid(self.fc5(x))           # 输出层\n",
    "        return x                                 # 返回概率值\n",
    "\n",
    "# 使用示例\n",
    "input_size = 815  # 输入特征的维度\n",
    "model = BinaryClassifier(input_size)\n",
    "\n",
    "# 打印模型结构\n",
    "print(model)"
   ]
  },
  {
   "cell_type": "code",
   "execution_count": 46,
   "id": "986386da-3ddc-4098-82b9-b1f959c53f00",
   "metadata": {},
   "outputs": [],
   "source": [
    "z = z.detach().numpy()\n",
    "from sklearn.model_selection import train_test_split\n",
    "X_train_val, X_test, y_train_val, y_test = train_test_split(z, labels, test_size=0.25, random_state=42)\n",
    "X_train, X_val, y_train, y_val = train_test_split(X_train_val, y_train_val, test_size=0.2, random_state=42)\n",
    "X_train = torch.tensor(X_train, dtype=torch.float32)\n",
    "X_test = torch.tensor(X_test, dtype=torch.float32)\n",
    "y_train = torch.tensor(y_train, dtype=torch.float32)\n",
    "y_test = torch.tensor(y_test, dtype=torch.float32)\n",
    "X_val = torch.tensor(X_val, dtype=torch.float32)\n",
    "y_val = torch.tensor(y_val, dtype=torch.float32)"
   ]
  },
  {
   "cell_type": "code",
   "execution_count": 47,
   "id": "0a15a813-10dd-4f97-8005-b25f8d19b6e5",
   "metadata": {},
   "outputs": [
    {
     "name": "stdout",
     "output_type": "stream",
     "text": [
      "Epoch [1/30], Loss: 0.6955, Val Accuracy: 0.4390\n",
      "Epoch [2/30], Loss: 0.6882, Val Accuracy: 0.4228\n",
      "Epoch [3/30], Loss: 0.6830, Val Accuracy: 0.4553\n",
      "Epoch [4/30], Loss: 0.6755, Val Accuracy: 0.4228\n",
      "Epoch [5/30], Loss: 0.6668, Val Accuracy: 0.4634\n",
      "Epoch [6/30], Loss: 0.6539, Val Accuracy: 0.5203\n",
      "Epoch [7/30], Loss: 0.6405, Val Accuracy: 0.4228\n",
      "Epoch [8/30], Loss: 0.6317, Val Accuracy: 0.4390\n",
      "Epoch [9/30], Loss: 0.6103, Val Accuracy: 0.5122\n",
      "Epoch [10/30], Loss: 0.6028, Val Accuracy: 0.4390\n",
      "Epoch [11/30], Loss: 0.5811, Val Accuracy: 0.4390\n",
      "Epoch [12/30], Loss: 0.5653, Val Accuracy: 0.4878\n",
      "Epoch [13/30], Loss: 0.5455, Val Accuracy: 0.4715\n",
      "Epoch [14/30], Loss: 0.5233, Val Accuracy: 0.4472\n",
      "Epoch [15/30], Loss: 0.5056, Val Accuracy: 0.4553\n",
      "Epoch [16/30], Loss: 0.4778, Val Accuracy: 0.5041\n",
      "Epoch [17/30], Loss: 0.4599, Val Accuracy: 0.4472\n",
      "Epoch [18/30], Loss: 0.4302, Val Accuracy: 0.4634\n",
      "Epoch [19/30], Loss: 0.4014, Val Accuracy: 0.4959\n",
      "Epoch [20/30], Loss: 0.3817, Val Accuracy: 0.4228\n",
      "Epoch [21/30], Loss: 0.3595, Val Accuracy: 0.4797\n",
      "Epoch [22/30], Loss: 0.3197, Val Accuracy: 0.4634\n",
      "Epoch [23/30], Loss: 0.2914, Val Accuracy: 0.4309\n",
      "Epoch [24/30], Loss: 0.2785, Val Accuracy: 0.4959\n",
      "Epoch [25/30], Loss: 0.2753, Val Accuracy: 0.4065\n",
      "Epoch [26/30], Loss: 0.2534, Val Accuracy: 0.4472\n",
      "Epoch [27/30], Loss: 0.1999, Val Accuracy: 0.4959\n",
      "Epoch [28/30], Loss: 0.2234, Val Accuracy: 0.4309\n",
      "Epoch [29/30], Loss: 0.2028, Val Accuracy: 0.4553\n",
      "Epoch [30/30], Loss: 0.1565, Val Accuracy: 0.4797\n"
     ]
    }
   ],
   "source": [
    "import numpy as np\n",
    "import random\n",
    "criterion = nn.BCELoss()\n",
    "optimizer = optim.Adam(model.parameters(), lr=0.001)\n",
    "num_epochs = 30\n",
    "acc3=[]\n",
    "for epoch in range(num_epochs):\n",
    "    model.train()  # 设置为训练模式\n",
    "    optimizer.zero_grad()\n",
    "    \n",
    "    # 前向传播\n",
    "    outputs = model(X_train)\n",
    "    loss = criterion(outputs, y_train.view(-1, 1).float())\n",
    "    \n",
    "    # 反向传播和优化\n",
    "    loss.backward()\n",
    "    optimizer.step()\n",
    "    model.eval()  # 设置为评估模式\n",
    "    with torch.no_grad():  # 不计算梯度\n",
    "        val_outputs = model(X_val)  # 在验证集上进行前向传播\n",
    "        val_predicted = (val_outputs >= 0.5).float()  # 将输出转换为0或1的预测\n",
    "        correct_predictions = (val_predicted.view(-1) == y_val).sum().item()  # 计算正确预测的数量\n",
    "        val_accuracy = correct_predictions / y_val.size(0)  # 计算验证集的准确率\n",
    "        acc3.append(val_accuracy)\n",
    "    #if (epoch + 1) % 10 == 0:\n",
    "    print(f'Epoch [{epoch + 1}/{num_epochs}], Loss: {loss.item():.4f}, Val Accuracy: {val_accuracy:.4f}')"
   ]
  },
  {
   "cell_type": "code",
   "execution_count": 48,
   "id": "47a1e7a1-8609-4a42-b0b9-14f209bf0104",
   "metadata": {},
   "outputs": [
    {
     "name": "stdout",
     "output_type": "stream",
     "text": [
      "Validation Accuracy: 47.97%\n",
      "Validation F1 Score: 0.5224\n"
     ]
    }
   ],
   "source": [
    "from sklearn.metrics import f1_score\n",
    "with torch.no_grad():\n",
    "    val_outputs = model(X_val)\n",
    "    val_predictions = (val_outputs >= 0.5).float()  # 预测类别\n",
    "    val_accuracy = (val_predictions.view(-1) == y_val).float().mean()  # 计算准确率\n",
    "    print(f'Validation Accuracy: {val_accuracy.item() * 100:.2f}%')\n",
    "    val_predictions_np = val_predictions.cpu().numpy().flatten()\n",
    "    y_val_np = y_val.cpu().numpy().flatten()\n",
    "    # 计算 F1 分数\n",
    "    val_f1 = f1_score(y_val_np, val_predictions_np)\n",
    "    print(f'Validation F1 Score: {val_f1:.4f}')"
   ]
  },
  {
   "cell_type": "code",
   "execution_count": 49,
   "id": "d3e91689-e5d3-41a2-809b-60dc035d33ad",
   "metadata": {},
   "outputs": [
    {
     "name": "stdout",
     "output_type": "stream",
     "text": [
      "Validation Accuracy: 50.00%\n",
      "Validation F1 Score: 0.5526\n"
     ]
    }
   ],
   "source": [
    "with torch.no_grad():\n",
    "    val_outputs = model(X_test)\n",
    "    val_predictions = (val_outputs >= 0.5).float()  # 预测类别\n",
    "    val_accuracy = (val_predictions.view(-1) == y_test).float().mean()  # 计算准确率\n",
    "    print(f'Validation Accuracy: {val_accuracy.item() * 100:.2f}%')\n",
    "    val_predictions_np = val_predictions.cpu().numpy().flatten()\n",
    "    y_test_np = y_test.cpu().numpy().flatten()\n",
    "    # 计算 F1 分数\n",
    "    val_f1 = f1_score(y_test_np, val_predictions_np)\n",
    "    print(f'Validation F1 Score: {val_f1:.4f}')"
   ]
  },
  {
   "cell_type": "code",
   "execution_count": 50,
   "id": "e37b8027-8697-4cf7-922d-e9cf913fb95b",
   "metadata": {},
   "outputs": [],
   "source": [
    "import pandas as pd\n",
    "loss_df = pd.DataFrame({\n",
    "    \"Accuracy_fusion1\": acc,\n",
    "    'Acc2':acc1,\n",
    "    'Acc3':acc2,\n",
    "    'Acc4':acc3\n",
    "})\n",
    "loss_df.to_csv(\"acc_2.csv\", index=False)"
   ]
  },
  {
   "cell_type": "code",
   "execution_count": null,
   "id": "40d91f2e-5aa7-454c-b86d-283d8b2c8766",
   "metadata": {},
   "outputs": [],
   "source": []
  }
 ],
 "metadata": {
  "kernelspec": {
   "display_name": "Python 3 (ipykernel)",
   "language": "python",
   "name": "python3"
  },
  "language_info": {
   "codemirror_mode": {
    "name": "ipython",
    "version": 3
   },
   "file_extension": ".py",
   "mimetype": "text/x-python",
   "name": "python",
   "nbconvert_exporter": "python",
   "pygments_lexer": "ipython3",
   "version": "3.12.0"
  }
 },
 "nbformat": 4,
 "nbformat_minor": 5
}
